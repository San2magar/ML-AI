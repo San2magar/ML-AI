{
 "cells": [
  {
   "cell_type": "code",
   "execution_count": 1,
   "id": "d588be29-16a9-4854-a961-0148991e28fe",
   "metadata": {},
   "outputs": [
    {
     "name": "stdout",
     "output_type": "stream",
     "text": [
      "Santu \n"
     ]
    }
   ],
   "source": [
    "print('Santu ')"
   ]
  },
  {
   "cell_type": "code",
   "execution_count": 2,
   "id": "ed4016bd-3483-436b-bb65-be35e8ca4f10",
   "metadata": {},
   "outputs": [
    {
     "name": "stdout",
     "output_type": "stream",
     "text": [
      "False\n"
     ]
    }
   ],
   "source": [
    "if 5<2:\n",
    "    print('True')\n",
    "else:\n",
    "    print('False')"
   ]
  },
  {
   "cell_type": "code",
   "execution_count": 4,
   "id": "ccd138ac-9053-434c-924e-29f98afc2b2b",
   "metadata": {},
   "outputs": [],
   "source": [
    "#this is comment"
   ]
  },
  {
   "cell_type": "code",
   "execution_count": 7,
   "id": "3d07c84a-dfd0-47b1-9a53-3a049cbe1b09",
   "metadata": {},
   "outputs": [
    {
     "data": {
      "text/plain": [
       "'this \\n    is \\n    double\\n    comment'"
      ]
     },
     "execution_count": 7,
     "metadata": {},
     "output_type": "execute_result"
    }
   ],
   "source": [
    "\"\"\"this \n",
    "    is \n",
    "    double\n",
    "    comment\"\"\""
   ]
  },
  {
   "cell_type": "code",
   "execution_count": 8,
   "id": "bdca94fa-20e7-475f-892a-86dcadeb0f3e",
   "metadata": {},
   "outputs": [
    {
     "data": {
      "text/plain": [
       "'\\nThis is a comment\\nwritten in\\nmore than just one line\\n'"
      ]
     },
     "execution_count": 8,
     "metadata": {},
     "output_type": "execute_result"
    }
   ],
   "source": [
    "\"\"\"\n",
    "This is a comment\n",
    "written in\n",
    "more than just one line\n",
    "\"\"\""
   ]
  },
  {
   "cell_type": "code",
   "execution_count": 11,
   "id": "8dfac09a-f2d7-4fec-84f9-e816933cd83f",
   "metadata": {},
   "outputs": [
    {
     "data": {
      "text/plain": [
       "int"
      ]
     },
     "execution_count": 11,
     "metadata": {},
     "output_type": "execute_result"
    }
   ],
   "source": [
    "a = 1\n",
    "type(a)"
   ]
  },
  {
   "cell_type": "code",
   "execution_count": 12,
   "id": "cf8f5afe-caa0-4ece-acea-4904c7f56c0e",
   "metadata": {},
   "outputs": [
    {
     "data": {
      "text/plain": [
       "float"
      ]
     },
     "execution_count": 12,
     "metadata": {},
     "output_type": "execute_result"
    }
   ],
   "source": [
    "a = 1.45\n",
    "type(a)"
   ]
  },
  {
   "cell_type": "code",
   "execution_count": 13,
   "id": "0bd755cf-018d-4614-916c-0897967c7895",
   "metadata": {},
   "outputs": [
    {
     "data": {
      "text/plain": [
       "complex"
      ]
     },
     "execution_count": 13,
     "metadata": {},
     "output_type": "execute_result"
    }
   ],
   "source": [
    "a = 2+ 3j\n",
    "type(a)"
   ]
  },
  {
   "cell_type": "code",
   "execution_count": 14,
   "id": "055833e5-9228-4a59-a6da-124bde73b50c",
   "metadata": {},
   "outputs": [
    {
     "data": {
      "text/plain": [
       "bool"
      ]
     },
     "execution_count": 14,
     "metadata": {},
     "output_type": "execute_result"
    }
   ],
   "source": [
    "a = True\n",
    "type(a)"
   ]
  },
  {
   "cell_type": "code",
   "execution_count": 18,
   "id": "713228e2-d1f9-490a-b7ce-7d57ca526e13",
   "metadata": {},
   "outputs": [
    {
     "name": "stdout",
     "output_type": "stream",
     "text": [
      "Ram\n",
      "Sam\n",
      "Ramesh\n"
     ]
    }
   ],
   "source": [
    "#python multiple variable assignment\n",
    "x,y,z = \"Ram\" , 'Sam', 'Ramesh'\n",
    "print(x)\n",
    "print(y)\n",
    "print(z)"
   ]
  },
  {
   "cell_type": "markdown",
   "id": "fdd52ace-74eb-4cb2-ab32-8249c83b2aa7",
   "metadata": {},
   "source": [
    "## Built-in Data Types"
   ]
  },
  {
   "cell_type": "code",
   "execution_count": 20,
   "id": "ab17a8f5-4644-4daf-8c0d-10911f211c6a",
   "metadata": {},
   "outputs": [
    {
     "name": "stdin",
     "output_type": "stream",
     "text": [
      "enter a number 6\n"
     ]
    },
    {
     "name": "stdout",
     "output_type": "stream",
     "text": [
      "its a even number6 \n"
     ]
    }
   ],
   "source": [
    "# type casting\n",
    "number= int (input ('enter a number'))\n",
    "if number % 2 == 0:\n",
    "    print(f'its a even number{number} ')\n",
    "else:\n",
    "    print('this is odd')"
   ]
  },
  {
   "cell_type": "markdown",
   "id": "ef36a6b7-da3c-4afc-96fe-e8c84b952c25",
   "metadata": {},
   "source": [
    "## slicing in string"
   ]
  },
  {
   "cell_type": "code",
   "execution_count": 3,
   "id": "49fbe973-17e5-4c6b-9068-3dce545e8104",
   "metadata": {},
   "outputs": [
    {
     "data": {
      "text/plain": [
       "'Hello'"
      ]
     },
     "execution_count": 3,
     "metadata": {},
     "output_type": "execute_result"
    }
   ],
   "source": [
    "b = \"Hello, World!\"\n",
    "b[0:5]#n-1 like stack"
   ]
  },
  {
   "cell_type": "code",
   "execution_count": 5,
   "id": "3f2cee85-a7fc-417e-858c-0e439d47ac94",
   "metadata": {},
   "outputs": [
    {
     "data": {
      "text/plain": [
       "'!'"
      ]
     },
     "execution_count": 5,
     "metadata": {},
     "output_type": "execute_result"
    }
   ],
   "source": [
    "b[-1]#counts start from backward"
   ]
  },
  {
   "cell_type": "code",
   "execution_count": 34,
   "id": "0142d390-4f6f-4b51-841e-6332fb9db46c",
   "metadata": {},
   "outputs": [
    {
     "name": "stdout",
     "output_type": "stream",
     "text": [
      "HELLO, WORLD!\n"
     ]
    }
   ],
   "source": [
    " a = \"Hello, World!\"\n",
    "print(a.upper())"
   ]
  },
  {
   "cell_type": "code",
   "execution_count": 35,
   "id": "9407e285-503e-4fe2-9530-657e45ccf9de",
   "metadata": {},
   "outputs": [
    {
     "name": "stdout",
     "output_type": "stream",
     "text": [
      "hello, world!\n"
     ]
    }
   ],
   "source": [
    "a = \"Hello, World!\"\n",
    "print(a.lower())"
   ]
  },
  {
   "cell_type": "code",
   "execution_count": 37,
   "id": "2d8cfec3-1856-41a7-8dd1-6abdb60ce2b8",
   "metadata": {},
   "outputs": [
    {
     "name": "stdout",
     "output_type": "stream",
     "text": [
      "Hello, World!\n"
     ]
    }
   ],
   "source": [
    "# whitespace remove\n",
    "a = \"   Hello, World!   \"\n",
    "print(a.strip())"
   ]
  },
  {
   "cell_type": "code",
   "execution_count": 38,
   "id": "ebb8b52e-9bf7-4bb4-907e-9b31ce855b58",
   "metadata": {},
   "outputs": [
    {
     "name": "stdout",
     "output_type": "stream",
     "text": [
      "3ello, World!\n"
     ]
    }
   ],
   "source": [
    "# replace string\n",
    "a = \"Hello, World!\"\n",
    "print(a.replace(\"H\",\"3\"))"
   ]
  },
  {
   "cell_type": "markdown",
   "id": "b1e6ea1f-5860-4623-a0af-8320081dd590",
   "metadata": {},
   "source": [
    "# If Else"
   ]
  },
  {
   "cell_type": "code",
   "execution_count": 1,
   "id": "4bfddabf-52bb-461f-96c0-6f7b8302115c",
   "metadata": {},
   "outputs": [
    {
     "name": "stdout",
     "output_type": "stream",
     "text": [
      "b is not greater than a\n"
     ]
    }
   ],
   "source": [
    "a=200\n",
    "b=33\n",
    "\n",
    "if b > a:\n",
    "    print('b is greater than a')\n",
    "else : \n",
    "    print('b is not greater than a')"
   ]
  },
  {
   "cell_type": "markdown",
   "id": "4b730e0b-b398-4086-b6fd-ec3617d8a0c2",
   "metadata": {},
   "source": [
    "## operators"
   ]
  },
  {
   "cell_type": "code",
   "execution_count": 11,
   "id": "57957561-8ad3-4ac4-a300-60084aa75b61",
   "metadata": {},
   "outputs": [
    {
     "name": "stdout",
     "output_type": "stream",
     "text": [
      "9.313225746154785e+20\n"
     ]
    }
   ],
   "source": [
    "import math\n",
    "x=5\n",
    "y=10\n",
    "\n",
    "a = 3.14*math.pi + math.exp(x)+math.log(((x**2)/y),10) + math.exp(y) + math.log((x/10),10) + x**(3*y)\n",
    "\n",
    "print (a)"
   ]
  },
  {
   "cell_type": "code",
   "execution_count": 30,
   "id": "afc8893b-7e44-4cab-bf27-b7a85c2e6742",
   "metadata": {},
   "outputs": [
    {
     "name": "stdout",
     "output_type": "stream",
     "text": [
      "-65.12938160461322\n"
     ]
    }
   ],
   "source": [
    "\n",
    "x= 1\n",
    "\n",
    "print(math.log2((math.exp(x))/(math.exp(x)+1))+math.log10((math.exp(-x))/(math.exp(-x)+1))+math.log((math.exp(x-1))/(math.exp(x+1)+math.exp((x**2)+(x**3))))+(37*math.pi)-18*(math.pi**2))"
   ]
  },
  {
   "cell_type": "markdown",
   "id": "f02086b1-c677-40d7-82cb-2f3b2feec883",
   "metadata": {},
   "source": [
    "## list"
   ]
  },
  {
   "cell_type": "code",
   "execution_count": 3,
   "id": "f55385a7-af13-4fcc-9be1-899ff9024e37",
   "metadata": {},
   "outputs": [
    {
     "name": "stdout",
     "output_type": "stream",
     "text": [
      "['apple', 'banana', 'cherry']\n"
     ]
    },
    {
     "data": {
      "text/plain": [
       "list"
      ]
     },
     "execution_count": 3,
     "metadata": {},
     "output_type": "execute_result"
    }
   ],
   "source": [
    "thislist = [\"apple\", \"banana\", \"cherry\"]\n",
    "print(thislist)\n",
    "type(thislist)"
   ]
  },
  {
   "cell_type": "code",
   "execution_count": 7,
   "id": "cfb71d9c-e747-4722-b5dd-423e1a7871d0",
   "metadata": {},
   "outputs": [
    {
     "name": "stdout",
     "output_type": "stream",
     "text": [
      "['apple', 'apple', 'banana', 'cherry']\n",
      "cherry\n"
     ]
    }
   ],
   "source": [
    "thislist = [\"apple\", \"apple\",\"banana\", \"cherry\"]\n",
    "print(thislist)\n",
    "print(thislist[-1]) #slicing"
   ]
  },
  {
   "cell_type": "code",
   "execution_count": 9,
   "id": "65c1f9f1-0ece-428e-bb44-eeda01efe296",
   "metadata": {},
   "outputs": [
    {
     "name": "stdout",
     "output_type": "stream",
     "text": [
      "['apple', 'BLACKCURRENT', 'banana', 'cherry']\n"
     ]
    }
   ],
   "source": [
    "thislist = [\"apple\", \"apple\",\"banana\", \"cherry\"]\n",
    "thislist[1] = \"BLACKCURRENT\"\n",
    "print(thislist)"
   ]
  },
  {
   "cell_type": "code",
   "execution_count": 10,
   "id": "173a7ac9-30cb-40b3-a1c1-8a0112defc21",
   "metadata": {},
   "outputs": [
    {
     "name": "stdout",
     "output_type": "stream",
     "text": [
      "['apple', 'BLACKCURRENT', 'mango', 'cherry']\n"
     ]
    }
   ],
   "source": [
    "thislist = [\"apple\", \"apple\",\"banana\", \"cherry\"]\n",
    "thislist[1:3] = [\"BLACKCURRENT\",\"mango\"]\n",
    "print(thislist)"
   ]
  },
  {
   "cell_type": "code",
   "execution_count": 14,
   "id": "25468414-b28f-4085-9139-de63f50f39ea",
   "metadata": {},
   "outputs": [
    {
     "name": "stdout",
     "output_type": "stream",
     "text": [
      "['apple', 'kiwi', 'apple', 'banana', 'cherry']\n"
     ]
    }
   ],
   "source": [
    "thislist = [\"apple\", \"apple\",\"banana\", \"cherry\"]\n",
    "thislist.insert(1,'kiwi')\n",
    "print(thislist)"
   ]
  },
  {
   "cell_type": "code",
   "execution_count": 15,
   "id": "46ce8471-e680-4805-a75a-042fcae79ba7",
   "metadata": {},
   "outputs": [
    {
     "name": "stdout",
     "output_type": "stream",
     "text": [
      "['apple', 'apple', 'banana', 'cherry', 'mango']\n"
     ]
    }
   ],
   "source": [
    "thislist = [\"apple\", \"apple\",\"banana\", \"cherry\"]\n",
    "thislist.append(\"mango\")\n",
    "print(thislist)"
   ]
  },
  {
   "cell_type": "code",
   "execution_count": 20,
   "id": "df83ca00-009a-4989-b246-346a0c9f29cd",
   "metadata": {},
   "outputs": [
    {
     "name": "stdout",
     "output_type": "stream",
     "text": [
      "['abc', 'bcd', 'efg', ['ab', 'cd', 'ef']]\n"
     ]
    }
   ],
   "source": [
    "a = ['abc','bcd','efg']\n",
    "b = ['ab','cd','ef']\n",
    "\n",
    "a.append(b)\n",
    "print(a)"
   ]
  },
  {
   "cell_type": "code",
   "execution_count": 22,
   "id": "3611fc16-a538-4a84-81af-35cde64b0309",
   "metadata": {},
   "outputs": [
    {
     "name": "stdout",
     "output_type": "stream",
     "text": [
      "['abc', 'bcd', 'efg', 'ab', 'cd', 'ef', 'a']\n"
     ]
    }
   ],
   "source": [
    "a = ['abc','bcd','efg']\n",
    "b = ['ab','cd','ef']\n",
    "c = ['a']\n",
    "a.extend(b)\n",
    "a.extend(c)\n",
    "print(a)"
   ]
  },
  {
   "cell_type": "code",
   "execution_count": 24,
   "id": "fa542f0b-5065-42c6-980f-dd4ee91e3226",
   "metadata": {},
   "outputs": [
    {
     "name": "stdout",
     "output_type": "stream",
     "text": [
      "['apple', 'apple', 'cherry']\n"
     ]
    }
   ],
   "source": [
    "thislist = [\"apple\", \"apple\",\"banana\", \"cherry\"]\n",
    "thislist.remove(\"banana\")\n",
    "print(thislist)"
   ]
  },
  {
   "cell_type": "code",
   "execution_count": 29,
   "id": "fb918fe2-13ca-4921-ad9b-69a82bcf8459",
   "metadata": {},
   "outputs": [
    {
     "name": "stdout",
     "output_type": "stream",
     "text": [
      "['apple', 'cherry']\n"
     ]
    }
   ],
   "source": [
    "thislist = [\"apple\",\"banana\", \"cherry\"]\n",
    "thislist.pop(1)\n",
    "print(thislist)"
   ]
  },
  {
   "cell_type": "code",
   "execution_count": 33,
   "id": "63b1e970-2f2c-46ff-94a5-4a60d34bcdc7",
   "metadata": {},
   "outputs": [],
   "source": [
    "thislist = [\"apple\", \"apple\",\"banana\", \"cherry\"]\n",
    "del thislist"
   ]
  },
  {
   "cell_type": "code",
   "execution_count": 35,
   "id": "79bd7416-f548-485a-81bc-89febb39b9c7",
   "metadata": {},
   "outputs": [
    {
     "name": "stdout",
     "output_type": "stream",
     "text": [
      "apple\n",
      "apple\n",
      "banana\n",
      "cherry\n"
     ]
    }
   ],
   "source": [
    "thislist = [\"apple\", \"apple\",\"banana\", \"cherry\"]\n",
    "for x in thislist:\n",
    "    print(x)"
   ]
  },
  {
   "cell_type": "markdown",
   "id": "76476683-c9b6-40ed-8e99-967c06536c39",
   "metadata": {},
   "source": [
    "# tuples"
   ]
  },
  {
   "cell_type": "code",
   "execution_count": 2,
   "id": "13817c88-652d-4b07-bc51-2e2ca3d58c8f",
   "metadata": {},
   "outputs": [
    {
     "name": "stdout",
     "output_type": "stream",
     "text": [
      "('apple', 'banana', 'cherry')\n"
     ]
    }
   ],
   "source": [
    "thistuple =(\"apple\",\"banana\",\"cherry\")\n",
    "print(thistuple)"
   ]
  },
  {
   "cell_type": "code",
   "execution_count": 3,
   "id": "e209b604-a3bc-4b17-a9fe-a1abb585a89d",
   "metadata": {},
   "outputs": [
    {
     "name": "stdout",
     "output_type": "stream",
     "text": [
      "3\n"
     ]
    }
   ],
   "source": [
    "thistuple =(\"apple\",\"banana\",\"cherry\")\n",
    "print(len(thistuple))"
   ]
  },
  {
   "cell_type": "code",
   "execution_count": 4,
   "id": "a124756d-e036-41b6-9f5c-f301c7cb8cf3",
   "metadata": {},
   "outputs": [
    {
     "name": "stdout",
     "output_type": "stream",
     "text": [
      "<class 'tuple'>\n"
     ]
    }
   ],
   "source": [
    "thistuple =(\"apple\",\"banana\",\"cherry\")\n",
    "print(type(thistuple))"
   ]
  },
  {
   "cell_type": "code",
   "execution_count": 5,
   "id": "4040a0db-a38a-4408-8c51-29ab99eec89b",
   "metadata": {},
   "outputs": [
    {
     "name": "stdout",
     "output_type": "stream",
     "text": [
      "('apple', 'kiwi', 'cherry')\n"
     ]
    }
   ],
   "source": [
    "x = (\"apple\",\"banana\",\"cherry\")\n",
    "y= list(x)\n",
    "y[1] =\"kiwi\"\n",
    "x = tuple(y)\n",
    "print (x)"
   ]
  },
  {
   "cell_type": "code",
   "execution_count": 6,
   "id": "19172f02-8749-4285-8085-36c89af2f37d",
   "metadata": {},
   "outputs": [
    {
     "name": "stdout",
     "output_type": "stream",
     "text": [
      "('apple', 'banana', 'cherry', 'orange')\n"
     ]
    }
   ],
   "source": [
    "x = (\"apple\",\"banana\",\"cherry\")\n",
    "y= list(x)\n",
    "y.append(\"orange\")\n",
    "x= tuple(y)\n",
    "print (x)"
   ]
  },
  {
   "cell_type": "markdown",
   "id": "6762b3fa-16b8-4742-b531-f4c7afe4f49b",
   "metadata": {},
   "source": [
    "# lambda"
   ]
  },
  {
   "cell_type": "code",
   "execution_count": 10,
   "id": "e3ea1282-eee4-41f2-94f7-1a1bae2ad6cf",
   "metadata": {},
   "outputs": [
    {
     "name": "stdout",
     "output_type": "stream",
     "text": [
      "15\n"
     ]
    }
   ],
   "source": [
    "x = lambda a: a + 10\n",
    "print(x(5))"
   ]
  },
  {
   "cell_type": "code",
   "execution_count": 12,
   "id": "7c3f279f-1eb2-4085-ab3f-bfa05007a514",
   "metadata": {},
   "outputs": [
    {
     "name": "stdout",
     "output_type": "stream",
     "text": [
      "even\n"
     ]
    }
   ],
   "source": [
    "x = lambda a: \"even\" if a%2==0 else \"odd\"\n",
    "print(x(6))"
   ]
  },
  {
   "cell_type": "code",
   "execution_count": 16,
   "id": "81bc2a42-1f3b-44ce-a465-8aeb25a9f858",
   "metadata": {},
   "outputs": [
    {
     "name": "stdout",
     "output_type": "stream",
     "text": [
      "equal\n"
     ]
    }
   ],
   "source": [
    " x = lambda a:\"positive\" if a>0 else (\"negative\" if a<0 else \"equal\")\n",
    "print (x(0))"
   ]
  },
  {
   "cell_type": "markdown",
   "id": "df932d77-6d3a-4498-a501-46b3a7f059a4",
   "metadata": {},
   "source": [
    "### Sets"
   ]
  },
  {
   "cell_type": "code",
   "execution_count": 17,
   "id": "dbc7cfb6-d20c-4f1b-b9cf-e232a89abb67",
   "metadata": {},
   "outputs": [
    {
     "name": "stdout",
     "output_type": "stream",
     "text": [
      "apple\n",
      "cherry\n",
      "banana\n"
     ]
    }
   ],
   "source": [
    "thisset = {'apple','banana','cherry'}\n",
    "for x in thisset:\n",
    "    print(x)"
   ]
  },
  {
   "cell_type": "code",
   "execution_count": 18,
   "id": "d5cb47cb-1d79-4a9e-ba80-a2a792b0c3de",
   "metadata": {},
   "outputs": [
    {
     "name": "stdout",
     "output_type": "stream",
     "text": [
      "{'apple', 'bannana', 'cherry', 'orange'}\n"
     ]
    }
   ],
   "source": [
    "thisset = {\"apple\",\"bannana\",\"cherry\"}\n",
    "thisset.add(\"orange\")\n",
    "print(thisset)"
   ]
  },
  {
   "cell_type": "code",
   "execution_count": 19,
   "id": "0584d1ab-d7a2-45f1-b95f-0a9df6908fca",
   "metadata": {},
   "outputs": [
    {
     "name": "stdout",
     "output_type": "stream",
     "text": [
      "{'mango', 'papaya', 'apple', 'bannana', 'cherry', 'pineapple'}\n"
     ]
    }
   ],
   "source": [
    "thisset = {\"apple\",\"bannana\",\"cherry\"}\n",
    "tropical = {\"pineapple\",\"mango\",\"papaya\"}\n",
    "thisset.update(tropical)\n",
    "print(thisset)"
   ]
  },
  {
   "cell_type": "code",
   "execution_count": 23,
   "id": "b6a521f2-0621-49d5-99a6-e7e6e46a160d",
   "metadata": {},
   "outputs": [
    {
     "name": "stdout",
     "output_type": "stream",
     "text": [
      "{1, 2, 'c', 'a', 3, 'b'}\n"
     ]
    }
   ],
   "source": [
    "set1 ={\"a\",\"b\",\"c\"}\n",
    "set2 = {1,2,3}\n",
    "\n",
    "set3 = set1.union(set2)\n",
    "print(set3)"
   ]
  },
  {
   "cell_type": "code",
   "execution_count": 22,
   "id": "9950aeaa-2959-4400-9ac0-2effa88fc3f7",
   "metadata": {},
   "outputs": [
    {
     "name": "stdout",
     "output_type": "stream",
     "text": [
      "{1, 2, 'c', 'a', 3, 'b'}\n"
     ]
    }
   ],
   "source": [
    "set1 ={\"a\",'b','c'}\n",
    "set2 = {1,2,3}\n",
    "\n",
    "set3 = set1 | set2\n",
    "print(set3)"
   ]
  },
  {
   "cell_type": "code",
   "execution_count": 29,
   "id": "44bbe8b1-6dca-4780-a9ee-7e0b04fff635",
   "metadata": {},
   "outputs": [
    {
     "data": {
      "text/plain": [
       "'set1 ={\"a\",\\'b\\',\\'c\\'}\\nset2 = [1,2,3]\\n\\nset3 = set1 | set2\\nprint(set3)'"
      ]
     },
     "execution_count": 29,
     "metadata": {},
     "output_type": "execute_result"
    }
   ],
   "source": [
    "\"\"\"set1 ={\"a\",'b','c'}\n",
    "set2 = [1,2,3]\n",
    "\n",
    "set3 = set1 | set2 #not possible\n",
    "print(set3)\"\"\""
   ]
  },
  {
   "cell_type": "code",
   "execution_count": 24,
   "id": "b09f1420-2261-418d-893c-a00dc92789fa",
   "metadata": {},
   "outputs": [
    {
     "name": "stdout",
     "output_type": "stream",
     "text": [
      "{'apple'}\n"
     ]
    }
   ],
   "source": [
    "set1 ={\"apple\",\"banana\",\"cherry\"}\n",
    "set2 ={\"google\",\"microsoft\",\"apple\"}\n",
    "\n",
    "set3 = set1.intersection(set2)\n",
    "print(set3)"
   ]
  },
  {
   "cell_type": "code",
   "execution_count": 26,
   "id": "f1d8770e-23b3-46fa-b3b3-a34ff5470336",
   "metadata": {},
   "outputs": [
    {
     "name": "stdout",
     "output_type": "stream",
     "text": [
      "{'apple'}\n"
     ]
    }
   ],
   "source": [
    "set1 ={\"apple\",\"banana\",\"cherry\"}\n",
    "set2 ={\"google\",\"microsoft\",\"apple\"}\n",
    "\n",
    "set3 = set1 & set2\n",
    "print(set3)"
   ]
  },
  {
   "cell_type": "code",
   "execution_count": 27,
   "id": "24f1585c-46eb-48ad-87e6-9bce760a1e16",
   "metadata": {},
   "outputs": [
    {
     "name": "stdout",
     "output_type": "stream",
     "text": [
      "{'banana', 'cherry'}\n"
     ]
    }
   ],
   "source": [
    "set1 ={\"apple\",\"banana\",\"cherry\"}\n",
    "set2 ={\"google\",\"microsoft\",\"apple\"}\n",
    "\n",
    "set3 = set1.difference(set2)\n",
    "print(set3)"
   ]
  },
  {
   "cell_type": "code",
   "execution_count": 30,
   "id": "1314bb20-7ea4-43f9-89f9-b60bbb16552f",
   "metadata": {},
   "outputs": [
    {
     "name": "stdout",
     "output_type": "stream",
     "text": [
      "{'banana', 'cherry', 'google', 'microsoft'}\n"
     ]
    }
   ],
   "source": [
    "set1 ={\"apple\",\"banana\",\"cherry\"}\n",
    "set2 ={\"google\",\"microsoft\",\"apple\"}\n",
    "\n",
    "set3 = set1.symmetric_difference(set2)\n",
    "print(set3)"
   ]
  },
  {
   "cell_type": "code",
   "execution_count": 31,
   "id": "562958c4-fc09-41c6-baed-2f8591fbb582",
   "metadata": {},
   "outputs": [
    {
     "name": "stdout",
     "output_type": "stream",
     "text": [
      "{'banana', 'cherry', 'google', 'microsoft'}\n"
     ]
    }
   ],
   "source": [
    "set1 ={\"apple\",\"banana\",\"cherry\"}\n",
    "set2 ={\"google\",\"microsoft\",\"apple\"}\n",
    "\n",
    "set3 = set1 ^ set2\n",
    "print(set3)"
   ]
  },
  {
   "cell_type": "markdown",
   "id": "d3c7acd0-d49e-4ec4-a231-7fbaa0124ea3",
   "metadata": {},
   "source": [
    "## dictionaries"
   ]
  },
  {
   "cell_type": "code",
   "execution_count": 39,
   "id": "58f8e37c-6b74-4373-b824-b40371c3b167",
   "metadata": {},
   "outputs": [
    {
     "data": {
      "text/plain": [
       "dict_values(['Ford', 'Mustang', 2013])"
      ]
     },
     "execution_count": 39,
     "metadata": {},
     "output_type": "execute_result"
    }
   ],
   "source": [
    "thisdict ={\n",
    "    \"brand\" : \"Ford\",\n",
    "    \"model\" : \"Mustang\",\n",
    "    \"year\" : 2013\n",
    "}\n",
    "thisdict.values()"
   ]
  },
  {
   "cell_type": "code",
   "execution_count": 38,
   "id": "fefbaf05-3e9a-4b04-b085-abaa2bab4ebd",
   "metadata": {},
   "outputs": [
    {
     "data": {
      "text/plain": [
       "dict_keys(['brand', 'model', 'year'])"
      ]
     },
     "execution_count": 38,
     "metadata": {},
     "output_type": "execute_result"
    }
   ],
   "source": [
    "thisdict ={\n",
    "    \"brand\" : \"Ford\",\n",
    "    \"model\" : \"Mustang\",\n",
    "    \"year\" : 2013\n",
    "}\n",
    "thisdict.keys()"
   ]
  },
  {
   "cell_type": "code",
   "execution_count": 42,
   "id": "ba7a79ea-8515-4af7-8f48-e74b324e9aab",
   "metadata": {},
   "outputs": [
    {
     "name": "stdout",
     "output_type": "stream",
     "text": [
      "{'brand': 'Ford', 'model': 'Mustang', 'year': 2018}\n"
     ]
    }
   ],
   "source": [
    "thisdict ={\n",
    "    \"brand\" : \"Ford\",\n",
    "    \"model\" : \"Mustang\",\n",
    "    \"year\" : 2013\n",
    "}\n",
    "thisdict[\"year\"] = 2018\n",
    "print(thisdict)"
   ]
  },
  {
   "cell_type": "code",
   "execution_count": null,
   "id": "10b3ddec-c346-4a10-9c96-dbaeac5caacb",
   "metadata": {},
   "outputs": [],
   "source": []
  }
 ],
 "metadata": {
  "kernelspec": {
   "display_name": "Python [conda env:base] *",
   "language": "python",
   "name": "conda-base-py"
  },
  "language_info": {
   "codemirror_mode": {
    "name": "ipython",
    "version": 3
   },
   "file_extension": ".py",
   "mimetype": "text/x-python",
   "name": "python",
   "nbconvert_exporter": "python",
   "pygments_lexer": "ipython3",
   "version": "3.12.7"
  }
 },
 "nbformat": 4,
 "nbformat_minor": 5
}
