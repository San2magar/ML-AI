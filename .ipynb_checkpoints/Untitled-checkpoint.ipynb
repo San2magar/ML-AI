{
 "cells": [
  {
   "cell_type": "code",
   "execution_count": 1,
   "id": "d588be29-16a9-4854-a961-0148991e28fe",
   "metadata": {},
   "outputs": [
    {
     "name": "stdout",
     "output_type": "stream",
     "text": [
      "Santu \n"
     ]
    }
   ],
   "source": [
    "print('Santu ')"
   ]
  },
  {
   "cell_type": "code",
   "execution_count": 2,
   "id": "ed4016bd-3483-436b-bb65-be35e8ca4f10",
   "metadata": {},
   "outputs": [
    {
     "name": "stdout",
     "output_type": "stream",
     "text": [
      "False\n"
     ]
    }
   ],
   "source": [
    "if 5<2:\n",
    "    print('True')\n",
    "else:\n",
    "    print('False')"
   ]
  },
  {
   "cell_type": "code",
   "execution_count": 4,
   "id": "ccd138ac-9053-434c-924e-29f98afc2b2b",
   "metadata": {},
   "outputs": [],
   "source": [
    "#this is comment"
   ]
  },
  {
   "cell_type": "code",
   "execution_count": 7,
   "id": "3d07c84a-dfd0-47b1-9a53-3a049cbe1b09",
   "metadata": {},
   "outputs": [
    {
     "data": {
      "text/plain": [
       "'this \\n    is \\n    double\\n    comment'"
      ]
     },
     "execution_count": 7,
     "metadata": {},
     "output_type": "execute_result"
    }
   ],
   "source": [
    "\"\"\"this \n",
    "    is \n",
    "    double\n",
    "    comment\"\"\""
   ]
  },
  {
   "cell_type": "code",
   "execution_count": 8,
   "id": "bdca94fa-20e7-475f-892a-86dcadeb0f3e",
   "metadata": {},
   "outputs": [
    {
     "data": {
      "text/plain": [
       "'\\nThis is a comment\\nwritten in\\nmore than just one line\\n'"
      ]
     },
     "execution_count": 8,
     "metadata": {},
     "output_type": "execute_result"
    }
   ],
   "source": [
    "\"\"\"\n",
    "This is a comment\n",
    "written in\n",
    "more than just one line\n",
    "\"\"\""
   ]
  },
  {
   "cell_type": "code",
   "execution_count": 11,
   "id": "8dfac09a-f2d7-4fec-84f9-e816933cd83f",
   "metadata": {},
   "outputs": [
    {
     "data": {
      "text/plain": [
       "int"
      ]
     },
     "execution_count": 11,
     "metadata": {},
     "output_type": "execute_result"
    }
   ],
   "source": [
    "a = 1\n",
    "type(a)"
   ]
  },
  {
   "cell_type": "code",
   "execution_count": 12,
   "id": "cf8f5afe-caa0-4ece-acea-4904c7f56c0e",
   "metadata": {},
   "outputs": [
    {
     "data": {
      "text/plain": [
       "float"
      ]
     },
     "execution_count": 12,
     "metadata": {},
     "output_type": "execute_result"
    }
   ],
   "source": [
    "a = 1.45\n",
    "type(a)"
   ]
  },
  {
   "cell_type": "code",
   "execution_count": 13,
   "id": "0bd755cf-018d-4614-916c-0897967c7895",
   "metadata": {},
   "outputs": [
    {
     "data": {
      "text/plain": [
       "complex"
      ]
     },
     "execution_count": 13,
     "metadata": {},
     "output_type": "execute_result"
    }
   ],
   "source": [
    "a = 2+ 3j\n",
    "type(a)"
   ]
  },
  {
   "cell_type": "code",
   "execution_count": 14,
   "id": "055833e5-9228-4a59-a6da-124bde73b50c",
   "metadata": {},
   "outputs": [
    {
     "data": {
      "text/plain": [
       "bool"
      ]
     },
     "execution_count": 14,
     "metadata": {},
     "output_type": "execute_result"
    }
   ],
   "source": [
    "a = True\n",
    "type(a)"
   ]
  },
  {
   "cell_type": "code",
   "execution_count": 18,
   "id": "713228e2-d1f9-490a-b7ce-7d57ca526e13",
   "metadata": {},
   "outputs": [
    {
     "name": "stdout",
     "output_type": "stream",
     "text": [
      "Ram\n",
      "Sam\n",
      "Ramesh\n"
     ]
    }
   ],
   "source": [
    "#python multiple variable assignment\n",
    "x,y,z = \"Ram\" , 'Sam', 'Ramesh'\n",
    "print(x)\n",
    "print(y)\n",
    "print(z)"
   ]
  },
  {
   "cell_type": "markdown",
   "id": "fdd52ace-74eb-4cb2-ab32-8249c83b2aa7",
   "metadata": {},
   "source": [
    "## Built-in Data Types"
   ]
  },
  {
   "cell_type": "code",
   "execution_count": 20,
   "id": "ab17a8f5-4644-4daf-8c0d-10911f211c6a",
   "metadata": {},
   "outputs": [
    {
     "name": "stdin",
     "output_type": "stream",
     "text": [
      "enter a number 6\n"
     ]
    },
    {
     "name": "stdout",
     "output_type": "stream",
     "text": [
      "its a even number6 \n"
     ]
    }
   ],
   "source": [
    "# type casting\n",
    "number= int (input ('enter a number'))\n",
    "if number % 2 == 0:\n",
    "    print(f'its a even number{number} ')\n",
    "else:\n",
    "    print('this is odd')"
   ]
  },
  {
   "cell_type": "markdown",
   "id": "ef36a6b7-da3c-4afc-96fe-e8c84b952c25",
   "metadata": {},
   "source": [
    "## slicing in string"
   ]
  },
  {
   "cell_type": "code",
   "execution_count": 3,
   "id": "49fbe973-17e5-4c6b-9068-3dce545e8104",
   "metadata": {},
   "outputs": [
    {
     "data": {
      "text/plain": [
       "'Hello'"
      ]
     },
     "execution_count": 3,
     "metadata": {},
     "output_type": "execute_result"
    }
   ],
   "source": [
    "b = \"Hello, World!\"\n",
    "b[0:5]#n-1 like stack"
   ]
  },
  {
   "cell_type": "code",
   "execution_count": 5,
   "id": "3f2cee85-a7fc-417e-858c-0e439d47ac94",
   "metadata": {},
   "outputs": [
    {
     "data": {
      "text/plain": [
       "'!'"
      ]
     },
     "execution_count": 5,
     "metadata": {},
     "output_type": "execute_result"
    }
   ],
   "source": [
    "b[-1]#counts start from backward"
   ]
  },
  {
   "cell_type": "code",
   "execution_count": 34,
   "id": "0142d390-4f6f-4b51-841e-6332fb9db46c",
   "metadata": {},
   "outputs": [
    {
     "name": "stdout",
     "output_type": "stream",
     "text": [
      "HELLO, WORLD!\n"
     ]
    }
   ],
   "source": [
    " a = \"Hello, World!\"\n",
    "print(a.upper())"
   ]
  },
  {
   "cell_type": "code",
   "execution_count": 35,
   "id": "9407e285-503e-4fe2-9530-657e45ccf9de",
   "metadata": {},
   "outputs": [
    {
     "name": "stdout",
     "output_type": "stream",
     "text": [
      "hello, world!\n"
     ]
    }
   ],
   "source": [
    "a = \"Hello, World!\"\n",
    "print(a.lower())"
   ]
  },
  {
   "cell_type": "code",
   "execution_count": 37,
   "id": "2d8cfec3-1856-41a7-8dd1-6abdb60ce2b8",
   "metadata": {},
   "outputs": [
    {
     "name": "stdout",
     "output_type": "stream",
     "text": [
      "Hello, World!\n"
     ]
    }
   ],
   "source": [
    "# whitespace remove\n",
    "a = \"   Hello, World!   \"\n",
    "print(a.strip())"
   ]
  },
  {
   "cell_type": "code",
   "execution_count": 38,
   "id": "ebb8b52e-9bf7-4bb4-907e-9b31ce855b58",
   "metadata": {},
   "outputs": [
    {
     "name": "stdout",
     "output_type": "stream",
     "text": [
      "3ello, World!\n"
     ]
    }
   ],
   "source": [
    "# replace string\n",
    "a = \"Hello, World!\"\n",
    "print(a.replace(\"H\",\"3\"))"
   ]
  },
  {
   "cell_type": "markdown",
   "id": "b1e6ea1f-5860-4623-a0af-8320081dd590",
   "metadata": {},
   "source": [
    "# If Else"
   ]
  },
  {
   "cell_type": "code",
   "execution_count": 1,
   "id": "4bfddabf-52bb-461f-96c0-6f7b8302115c",
   "metadata": {},
   "outputs": [
    {
     "name": "stdout",
     "output_type": "stream",
     "text": [
      "b is not greater than a\n"
     ]
    }
   ],
   "source": [
    "a=200\n",
    "b=33\n",
    "\n",
    "if b > a:\n",
    "    print('b is greater than a')\n",
    "else : \n",
    "    print('b is not greater than a')"
   ]
  },
  {
   "cell_type": "markdown",
   "id": "4b730e0b-b398-4086-b6fd-ec3617d8a0c2",
   "metadata": {},
   "source": [
    "## operators"
   ]
  },
  {
   "cell_type": "code",
   "execution_count": 11,
   "id": "57957561-8ad3-4ac4-a300-60084aa75b61",
   "metadata": {},
   "outputs": [
    {
     "name": "stdout",
     "output_type": "stream",
     "text": [
      "9.313225746154785e+20\n"
     ]
    }
   ],
   "source": [
    "import math\n",
    "x=5\n",
    "y=10\n",
    "\n",
    "a = 3.14*math.pi + math.exp(x)+math.log(((x**2)/y),10) + math.exp(y) + math.log((x/10),10) + x**(3*y)\n",
    "\n",
    "print (a)"
   ]
  },
  {
   "cell_type": "code",
   "execution_count": 30,
   "id": "afc8893b-7e44-4cab-bf27-b7a85c2e6742",
   "metadata": {},
   "outputs": [
    {
     "name": "stdout",
     "output_type": "stream",
     "text": [
      "-65.12938160461322\n"
     ]
    }
   ],
   "source": [
    "\n",
    "x= 1\n",
    "\n",
    "print(math.log2((math.exp(x))/(math.exp(x)+1))+math.log10((math.exp(-x))/(math.exp(-x)+1))+math.log((math.exp(x-1))/(math.exp(x+1)+math.exp((x**2)+(x**3))))+(37*math.pi)-18*(math.pi**2))"
   ]
  },
  {
   "cell_type": "code",
   "execution_count": null,
   "id": "f34613de-951a-4198-a95f-b7e7bc16d308",
   "metadata": {},
   "outputs": [],
   "source": []
  }
 ],
 "metadata": {
  "kernelspec": {
   "display_name": "Python [conda env:base] *",
   "language": "python",
   "name": "conda-base-py"
  },
  "language_info": {
   "codemirror_mode": {
    "name": "ipython",
    "version": 3
   },
   "file_extension": ".py",
   "mimetype": "text/x-python",
   "name": "python",
   "nbconvert_exporter": "python",
   "pygments_lexer": "ipython3",
   "version": "3.12.7"
  }
 },
 "nbformat": 4,
 "nbformat_minor": 5
}
