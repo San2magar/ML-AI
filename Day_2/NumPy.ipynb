{
 "cells": [
  {
   "cell_type": "markdown",
   "id": "419dc531-a492-4628-92e1-f521740739aa",
   "metadata": {},
   "source": [
    "## 4.Uniform Samples"
   ]
  },
  {
   "cell_type": "code",
   "execution_count": 3,
   "id": "39736f1a-dff7-40cf-8a3f-11e9b6fe4854",
   "metadata": {},
   "outputs": [
    {
     "name": "stdout",
     "output_type": "stream",
     "text": [
      "Requirement already satisfied: numpy in c:\\users\\dell\\anaconda3\\lib\\site-packages (1.26.4)\n"
     ]
    }
   ],
   "source": [
    "! pip install numpy\n"
   ]
  },
  {
   "cell_type": "code",
   "execution_count": 5,
   "id": "836ee14a-8675-4f80-88ab-0f4e2313a730",
   "metadata": {},
   "outputs": [],
   "source": [
    "import numpy as np"
   ]
  },
  {
   "cell_type": "code",
   "execution_count": 7,
   "id": "80532409-38ef-4f79-a9e8-194298fc1c65",
   "metadata": {},
   "outputs": [
    {
     "data": {
      "text/plain": [
       "array([8.61970924, 5.96268062, 9.00262106, 5.95808001])"
      ]
     },
     "execution_count": 7,
     "metadata": {},
     "output_type": "execute_result"
    }
   ],
   "source": [
    "np.random.uniform(5,10,size=4)"
   ]
  },
  {
   "cell_type": "markdown",
   "id": "08257f34-f5e9-4d3d-9fe9-a8d7285576ea",
   "metadata": {},
   "source": [
    "## log space"
   ]
  },
  {
   "cell_type": "code",
   "execution_count": 9,
   "id": "a297d579-578c-4846-9891-6f330c11c63f",
   "metadata": {},
   "outputs": [],
   "source": [
    "#np.logspace(start,stop,num=50,endpoint=True,base=10.0)"
   ]
  },
  {
   "cell_type": "markdown",
   "id": "2e4cf51e-7ce3-45a0-9fd7-0e1c8a4cdc34",
   "metadata": {},
   "source": [
    "## identity"
   ]
  },
  {
   "cell_type": "code",
   "execution_count": 10,
   "id": "59a8482a-6b34-4eab-a16e-915d29acfd10",
   "metadata": {},
   "outputs": [
    {
     "data": {
      "text/plain": [
       "array([[1., 0., 0., 0.],\n",
       "       [0., 1., 0., 0.],\n",
       "       [0., 0., 1., 0.],\n",
       "       [0., 0., 0., 1.]])"
      ]
     },
     "execution_count": 10,
     "metadata": {},
     "output_type": "execute_result"
    }
   ],
   "source": [
    "np.identity(4)"
   ]
  },
  {
   "cell_type": "markdown",
   "id": "8ecedf5e-516f-4010-9e8d-137ee5098c0c",
   "metadata": {},
   "source": [
    "## Digitize"
   ]
  },
  {
   "cell_type": "code",
   "execution_count": 11,
   "id": "a79f1233-5f3a-47f8-82e2-f76959c7421f",
   "metadata": {},
   "outputs": [
    {
     "data": {
      "text/plain": [
       "array([0, 1, 1, 2, 2, 2, 2, 4, 4, 4], dtype=int64)"
      ]
     },
     "execution_count": 11,
     "metadata": {},
     "output_type": "execute_result"
    }
   ],
   "source": [
    "a = np.array([-0.9,0.5,0.9,1,1.2,1.2,1.4,3.6,4.7,5.3])\n",
    "bins = np.array([0,1,2,3])\n",
    "np.digitize(a,bins)"
   ]
  },
  {
   "cell_type": "markdown",
   "id": "f2516468-f096-410a-be13-cebddf58ed4d",
   "metadata": {},
   "source": [
    "## expand dimensions"
   ]
  },
  {
   "cell_type": "code",
   "execution_count": 13,
   "id": "3d353f71-8224-413c-b85d-79286f1215af",
   "metadata": {},
   "outputs": [
    {
     "data": {
      "text/plain": [
       "array([[ 8, 14,  1,  8, 11,  4,  9,  4, 13, 13, 11]])"
      ]
     },
     "execution_count": 13,
     "metadata": {},
     "output_type": "execute_result"
    }
   ],
   "source": [
    "arr = np.array([8,14,1,8,11,4,9,4,13,13,11])\n",
    "np.expand_dims(arr,axis=0)"
   ]
  },
  {
   "cell_type": "code",
   "execution_count": 14,
   "id": "a8eda123-635e-4d40-99e9-0e6a629fc1b0",
   "metadata": {},
   "outputs": [
    {
     "data": {
      "text/plain": [
       "array([[ 8],\n",
       "       [14],\n",
       "       [ 1],\n",
       "       [ 8],\n",
       "       [11],\n",
       "       [ 4],\n",
       "       [ 9],\n",
       "       [ 4],\n",
       "       [13],\n",
       "       [13],\n",
       "       [11]])"
      ]
     },
     "execution_count": 14,
     "metadata": {},
     "output_type": "execute_result"
    }
   ],
   "source": [
    "np.expand_dims(arr,axis=1)"
   ]
  },
  {
   "cell_type": "markdown",
   "id": "bd352eda-2713-470c-ab11-6042bbb3f259",
   "metadata": {},
   "source": [
    "## squeeze"
   ]
  },
  {
   "cell_type": "code",
   "execution_count": 16,
   "id": "dc15b04c-e57a-4c95-98cf-6571b98370b8",
   "metadata": {},
   "outputs": [
    {
     "data": {
      "text/plain": [
       "array([ 8, 14,  1,  8, 11,  4,  9,  4, 13, 13, 11])"
      ]
     },
     "execution_count": 16,
     "metadata": {},
     "output_type": "execute_result"
    }
   ],
   "source": [
    "arr = np.array([8,14,1,8,11,4,9,4,13,13,11])\n",
    "np.squeeze(arr)"
   ]
  },
  {
   "cell_type": "markdown",
   "id": "84931e5a-29c5-4a79-bd8f-03e9e3413079",
   "metadata": {},
   "source": [
    "## count non-zero"
   ]
  },
  {
   "cell_type": "code",
   "execution_count": 17,
   "id": "16fd2a87-4a83-4301-863f-b24aa7a3f433",
   "metadata": {},
   "outputs": [
    {
     "data": {
      "text/plain": [
       "3"
      ]
     },
     "execution_count": 17,
     "metadata": {},
     "output_type": "execute_result"
    }
   ],
   "source": [
    "a = np.array([0,0,1,1,1,0])\n",
    "np.count_nonzero(a)"
   ]
  },
  {
   "cell_type": "code",
   "execution_count": 18,
   "id": "5b109353-dc8d-4410-96c8-4aaa724925d2",
   "metadata": {},
   "outputs": [
    {
     "name": "stdout",
     "output_type": "stream",
     "text": [
      "3\n"
     ]
    }
   ],
   "source": [
    "b = (len(a))\n",
    "print(abs(b-np.count_nonzero(a)))"
   ]
  },
  {
   "cell_type": "markdown",
   "id": "a750f643-7e6b-4864-b01f-80143cb49784",
   "metadata": {},
   "source": [
    "## sort"
   ]
  },
  {
   "cell_type": "code",
   "execution_count": 19,
   "id": "3fe1cdef-efa6-4664-8837-d6132bdf314c",
   "metadata": {},
   "outputs": [
    {
     "data": {
      "text/plain": [
       "array([1, 2, 3, 4, 5, 7])"
      ]
     },
     "execution_count": 19,
     "metadata": {},
     "output_type": "execute_result"
    }
   ],
   "source": [
    "arr = np.array([2,3,1,7,4,5])\n",
    "np.sort(arr)"
   ]
  },
  {
   "cell_type": "markdown",
   "id": "8fac681b-c227-4e1e-b11e-177decd81857",
   "metadata": {},
   "source": [
    "## abs"
   ]
  },
  {
   "cell_type": "code",
   "execution_count": 21,
   "id": "3faeb18b-cf5d-4b00-bd71-57212ad4fde8",
   "metadata": {},
   "outputs": [
    {
     "data": {
      "text/plain": [
       "array([[1, 3, 4],\n",
       "       [2, 4, 3]])"
      ]
     },
     "execution_count": 21,
     "metadata": {},
     "output_type": "execute_result"
    }
   ],
   "source": [
    "A = np.array([[1,-3,4],[-2,-4,3]])\n",
    "np.abs(A)"
   ]
  },
  {
   "cell_type": "markdown",
   "id": "5788b445-d5b8-4160-9ea5-887a9374e3fc",
   "metadata": {},
   "source": [
    "## Round"
   ]
  },
  {
   "cell_type": "code",
   "execution_count": 22,
   "id": "7ad84e5c-ffc0-473f-abad-dfbeff6e011c",
   "metadata": {},
   "outputs": [
    {
     "data": {
      "text/plain": [
       "array([[0.74893291, 0.1349571 , 0.02035566, 0.35514894],\n",
       "       [0.09223664, 0.98779732, 0.45045877, 0.34051197],\n",
       "       [0.64085935, 0.02399415, 0.70926379, 0.28319109]])"
      ]
     },
     "execution_count": 22,
     "metadata": {},
     "output_type": "execute_result"
    }
   ],
   "source": [
    "a = np.random.random(size=(3,4))\n",
    "a"
   ]
  },
  {
   "cell_type": "code",
   "execution_count": 23,
   "id": "0cd7143c-1108-4881-b4ea-1393b1794017",
   "metadata": {},
   "outputs": [
    {
     "data": {
      "text/plain": [
       "array([[1., 0., 0., 0.],\n",
       "       [0., 1., 0., 0.],\n",
       "       [1., 0., 1., 0.]])"
      ]
     },
     "execution_count": 23,
     "metadata": {},
     "output_type": "execute_result"
    }
   ],
   "source": [
    "np.round(a,decimals=0)"
   ]
  },
  {
   "cell_type": "code",
   "execution_count": 24,
   "id": "9ea4d091-bd3f-4011-bef6-1b72fdf8b885",
   "metadata": {},
   "outputs": [
    {
     "data": {
      "text/plain": [
       "array([[0.7, 0.1, 0. , 0.4],\n",
       "       [0.1, 1. , 0.5, 0.3],\n",
       "       [0.6, 0. , 0.7, 0.3]])"
      ]
     },
     "execution_count": 24,
     "metadata": {},
     "output_type": "execute_result"
    }
   ],
   "source": [
    "np.round(a,decimals=1)"
   ]
  },
  {
   "cell_type": "markdown",
   "id": "14e56678-8d99-4d3c-bfde-e56f9b925b3e",
   "metadata": {},
   "source": [
    "## clip"
   ]
  },
  {
   "cell_type": "code",
   "execution_count": 25,
   "id": "c9c37c8d-7925-45b4-8faf-8688d03a7567",
   "metadata": {},
   "outputs": [
    {
     "data": {
      "text/plain": [
       "array([0, 1, 0, 0, 5, 5, 5, 2, 3])"
      ]
     },
     "execution_count": 25,
     "metadata": {},
     "output_type": "execute_result"
    }
   ],
   "source": [
    "arr = np.array([0,1,-3,-4,5,6,7,2,3])\n",
    "arr.clip(0,5)"
   ]
  },
  {
   "cell_type": "code",
   "execution_count": 26,
   "id": "d47bee01-c777-4ae2-8aa9-843c92de8e0e",
   "metadata": {},
   "outputs": [
    {
     "data": {
      "text/plain": [
       "array([0, 1, 0, 0, 3, 3, 3, 2, 3])"
      ]
     },
     "execution_count": 26,
     "metadata": {},
     "output_type": "execute_result"
    }
   ],
   "source": [
    "arr.clip(0,3)"
   ]
  },
  {
   "cell_type": "code",
   "execution_count": 27,
   "id": "66e93fd8-02df-43fd-a753-5c2873140835",
   "metadata": {},
   "outputs": [
    {
     "data": {
      "text/plain": [
       "array([3, 3, 3, 3, 5, 5, 5, 3, 3])"
      ]
     },
     "execution_count": 27,
     "metadata": {},
     "output_type": "execute_result"
    }
   ],
   "source": [
    "arr.clip(3,5)"
   ]
  },
  {
   "cell_type": "markdown",
   "id": "193980bd-0dda-47e3-a964-8655dd6d9830",
   "metadata": {},
   "source": [
    "## Copy to"
   ]
  },
  {
   "cell_type": "code",
   "execution_count": 30,
   "id": "15c7bb00-08b1-492c-bd3a-f4c322f38b8b",
   "metadata": {},
   "outputs": [
    {
     "name": "stdout",
     "output_type": "stream",
     "text": [
      "before arr1 [1 2 3]\n",
      "before arr2 [4 5 6]\n",
      "after arr1 [4 5 6]\n",
      "after arr1 [4 5 6]\n"
     ]
    }
   ],
   "source": [
    "arr1 = np.array([1,2,3])\n",
    "arr2 = np.array([4,5,6])\n",
    "print(\"before arr1\",arr1)\n",
    "print(\"before arr2\",arr2)\n",
    "np.copyto(arr1,arr2)\n",
    "print(\"after arr1\",arr1)\n",
    "print(\"after arr1\",arr1)"
   ]
  },
  {
   "cell_type": "code",
   "execution_count": 31,
   "id": "71053943-6c4f-4fa6-91b1-83e83b55dbea",
   "metadata": {},
   "outputs": [],
   "source": [
    "## "
   ]
  },
  {
   "cell_type": "code",
   "execution_count": 42,
   "id": "1a475c3f-9f06-44ce-b1d3-7db7d2ffe144",
   "metadata": {},
   "outputs": [],
   "source": [
    "a = ([[1,2,3],[4,5,6],[7,8,9]])\n",
    "b = ([[3,1,3],[1,5,1],[7,1,9]])\n"
   ]
  },
  {
   "cell_type": "code",
   "execution_count": 43,
   "id": "34821567-821e-4340-8d15-a1650ed631e8",
   "metadata": {},
   "outputs": [
    {
     "data": {
      "text/plain": [
       "[[1, 2, 3], [4, 5, 6], [7, 8, 9]]"
      ]
     },
     "execution_count": 43,
     "metadata": {},
     "output_type": "execute_result"
    }
   ],
   "source": [
    "a"
   ]
  },
  {
   "cell_type": "code",
   "execution_count": 44,
   "id": "5abeda56-45b6-47db-aae0-0df82948f8c6",
   "metadata": {},
   "outputs": [
    {
     "data": {
      "text/plain": [
       "[[3, 1, 3], [1, 5, 1], [7, 1, 9]]"
      ]
     },
     "execution_count": 44,
     "metadata": {},
     "output_type": "execute_result"
    }
   ],
   "source": [
    "b"
   ]
  },
  {
   "cell_type": "code",
   "execution_count": 55,
   "id": "50170ef6-e355-43ae-a793-9f6191d1ed19",
   "metadata": {},
   "outputs": [
    {
     "data": {
      "text/plain": [
       "array([[1, 4, 7],\n",
       "       [2, 5, 8],\n",
       "       [3, 6, 9]])"
      ]
     },
     "execution_count": 55,
     "metadata": {},
     "output_type": "execute_result"
    }
   ],
   "source": [
    "# transpose\n",
    "np.einsum('ij->ji',a)"
   ]
  },
  {
   "cell_type": "code",
   "execution_count": 45,
   "id": "699f4653-28fb-42c6-a1dc-f6fa027cea5e",
   "metadata": {},
   "outputs": [
    {
     "data": {
      "text/plain": [
       "array([[1, 4, 7],\n",
       "       [2, 5, 8],\n",
       "       [3, 6, 9]])"
      ]
     },
     "execution_count": 45,
     "metadata": {},
     "output_type": "execute_result"
    }
   ],
   "source": [
    "np.einsum('ji',a)"
   ]
  },
  {
   "cell_type": "code",
   "execution_count": 49,
   "id": "5cbc3bde-fef1-475d-9511-0a438a9cdcf6",
   "metadata": {},
   "outputs": [
    {
     "data": {
      "text/plain": [
       "15"
      ]
     },
     "execution_count": 49,
     "metadata": {},
     "output_type": "execute_result"
    }
   ],
   "source": [
    "# SUM OF DIAGONAL\n",
    "np.einsum('ii',a)"
   ]
  },
  {
   "cell_type": "code",
   "execution_count": 48,
   "id": "2f284706-ca25-40d8-9797-2571affadede",
   "metadata": {},
   "outputs": [
    {
     "data": {
      "text/plain": [
       "array([[ 26,  14,  32],\n",
       "       [ 59,  35,  71],\n",
       "       [ 92,  56, 110]])"
      ]
     },
     "execution_count": 48,
     "metadata": {},
     "output_type": "execute_result"
    }
   ],
   "source": [
    "# matix multiplication\n",
    "np.einsum('ij,jk',a,b)"
   ]
  },
  {
   "cell_type": "code",
   "execution_count": 52,
   "id": "cec20e7a-1d67-4fcc-a9d0-c48cb49c119a",
   "metadata": {},
   "outputs": [
    {
     "data": {
      "text/plain": [
       "array([[3, 4],\n",
       "       [5, 6]])"
      ]
     },
     "execution_count": 52,
     "metadata": {},
     "output_type": "execute_result"
    }
   ],
   "source": [
    "c=np.array([[3,4],[5,6]])\n",
    "c"
   ]
  },
  {
   "cell_type": "code",
   "execution_count": 54,
   "id": "b5648662-7771-4342-88af-6f7ba455cd3d",
   "metadata": {},
   "outputs": [
    {
     "data": {
      "text/plain": [
       "-2.0000000000000004"
      ]
     },
     "execution_count": 54,
     "metadata": {},
     "output_type": "execute_result"
    }
   ],
   "source": [
    "# determinant\n",
    "np.linalg.det(c)"
   ]
  },
  {
   "cell_type": "code",
   "execution_count": 58,
   "id": "84e6acd3-8aaa-4e8c-83dc-ba5a6479324f",
   "metadata": {},
   "outputs": [
    {
     "data": {
      "text/plain": [
       "-2"
      ]
     },
     "execution_count": 58,
     "metadata": {},
     "output_type": "execute_result"
    }
   ],
   "source": [
    "int(np.linalg.det(c))"
   ]
  },
  {
   "cell_type": "code",
   "execution_count": 59,
   "id": "23c89600-8997-496f-b90a-4e600ec26fcf",
   "metadata": {},
   "outputs": [
    {
     "data": {
      "text/plain": [
       "array([[-3. ,  2. ],\n",
       "       [ 2.5, -1.5]])"
      ]
     },
     "execution_count": 59,
     "metadata": {},
     "output_type": "execute_result"
    }
   ],
   "source": [
    "np.linalg.inv(c)"
   ]
  },
  {
   "cell_type": "code",
   "execution_count": 60,
   "id": "ce16101d-72de-4337-96f3-1cdf9c950e30",
   "metadata": {},
   "outputs": [
    {
     "name": "stdout",
     "output_type": "stream",
     "text": [
      "6\n"
     ]
    }
   ],
   "source": [
    "# Basic summation\n",
    "a = np.array([1,2,3])\n",
    "print(np.einsum('i->',a))"
   ]
  },
  {
   "cell_type": "code",
   "execution_count": 68,
   "id": "7939ba84-9ba4-4978-a327-7b6a0f834993",
   "metadata": {},
   "outputs": [
    {
     "name": "stdout",
     "output_type": "stream",
     "text": [
      "32\n"
     ]
    }
   ],
   "source": [
    "# element wise multiplication and summation\n",
    "a = np.array([1,2,3])\n",
    "b = np.array([4,5,6])\n",
    "print(np.einsum('i,i->',a,b)) # dot produtc"
   ]
  },
  {
   "cell_type": "code",
   "execution_count": 69,
   "id": "6fddb33c-138f-4dde-b54b-be53bf7920d6",
   "metadata": {},
   "outputs": [
    {
     "name": "stdout",
     "output_type": "stream",
     "text": [
      "[[ 4  5  6]\n",
      " [ 8 10 12]\n",
      " [12 15 18]]\n"
     ]
    }
   ],
   "source": [
    "# outer product ie; i * j transpose\n",
    "a = np.array([1,2,3])\n",
    "b = np.array([4,5,6])\n",
    "print(np.einsum('i,j->ij',a,b))"
   ]
  },
  {
   "cell_type": "code",
   "execution_count": 75,
   "id": "04652eef-c314-4a56-a2cf-abeb913fc4b6",
   "metadata": {},
   "outputs": [
    {
     "name": "stdout",
     "output_type": "stream",
     "text": [
      "[[1 4]\n",
      " [2 5]\n",
      " [3 6]]\n"
     ]
    }
   ],
   "source": [
    "# matrix transposition\n",
    "A = np.array([[1,2,3],[4,5,6]])\n",
    "print(np.einsum('ij->ji',A)) #transpose matrix\n"
   ]
  },
  {
   "cell_type": "code",
   "execution_count": 76,
   "id": "66da51ef-37c3-43a2-b8e5-dda7ef26ef0b",
   "metadata": {},
   "outputs": [
    {
     "name": "stdout",
     "output_type": "stream",
     "text": [
      "[23 53 83]\n"
     ]
    }
   ],
   "source": [
    "# matrix-vector multiplication\n",
    "A = np.array([[1,2],[3,4],[5,6]])\n",
    "x = np.array([7,8])\n",
    "print(np.einsum('ij,j->i',A,x)) #matrix-vector multiplication"
   ]
  },
  {
   "cell_type": "code",
   "execution_count": 81,
   "id": "86a34990-01dc-4621-9581-dc6efbcae1ca",
   "metadata": {},
   "outputs": [
    {
     "name": "stdout",
     "output_type": "stream",
     "text": [
      "[[19 22]\n",
      " [43 50]]\n"
     ]
    }
   ],
   "source": [
    "# matrix multiplication\n",
    "A = np.array([[1,2],[3,4]])\n",
    "B = np.array([[5,6],[7,8]])\n",
    "print(np.einsum('ij,jk->ik',A,B))"
   ]
  },
  {
   "cell_type": "code",
   "execution_count": 91,
   "id": "bce6a547-4746-4514-bd1b-ecb3bcaead91",
   "metadata": {},
   "outputs": [
    {
     "name": "stdout",
     "output_type": "stream",
     "text": [
      "6\n"
     ]
    }
   ],
   "source": [
    "# trace of a matrix\n",
    "A = np.array([[1,4],[3,5]])\n",
    "print(np.einsum('ii->',A)) #diagonal value"
   ]
  },
  {
   "cell_type": "code",
   "execution_count": 89,
   "id": "b1409a08-9f4d-4217-be5f-80e4446e76f3",
   "metadata": {},
   "outputs": [
    {
     "name": "stdout",
     "output_type": "stream",
     "text": [
      "[1 5]\n"
     ]
    }
   ],
   "source": [
    "# diagonal extraction\n",
    "A = np.array([[1,4],[3,5]])\n",
    "print(np.einsum('ii->i',A)) #diagonal value"
   ]
  },
  {
   "cell_type": "markdown",
   "id": "15e28e7a-dd53-4324-865e-38efbfc8b5f2",
   "metadata": {},
   "source": [
    "## array printing options"
   ]
  },
  {
   "cell_type": "code",
   "execution_count": 93,
   "id": "ddb04b9c-37c3-4adb-8a58-1c03f57c11b8",
   "metadata": {},
   "outputs": [
    {
     "name": "stdout",
     "output_type": "stream",
     "text": [
      "[12.23 32.35]\n"
     ]
    }
   ],
   "source": [
    "# show floats with two decimal values\n",
    "np.set_printoptions(precision=2)\n",
    "a = np.array([12.23456,32.34535])\n",
    "print(a)"
   ]
  },
  {
   "cell_type": "code",
   "execution_count": 97,
   "id": "65b3405e-5ad0-4842-9b41-a7799cc919af",
   "metadata": {},
   "outputs": [],
   "source": [
    "# printing array to its max\n",
    "np.set_printoptions(threshold=np.inf)"
   ]
  },
  {
   "cell_type": "code",
   "execution_count": 99,
   "id": "44b8acfc-428f-4b58-8749-e9b49ec2a1e3",
   "metadata": {},
   "outputs": [],
   "source": [
    "# increase the no of elements in a line\n",
    "np.set_printoptions(linewidth=100)"
   ]
  },
  {
   "cell_type": "code",
   "execution_count": 100,
   "id": "e25559f6-c923-4f6f-8eea-8edfa192d414",
   "metadata": {},
   "outputs": [],
   "source": [
    "a = np.array([[1,2,3],[3,4,5],[5,6,7]])\n",
    "b = np.array([[2,3,4],[5,6,7],[8,9,1]])"
   ]
  },
  {
   "cell_type": "code",
   "execution_count": 101,
   "id": "a43a990e-eeaa-4c39-a028-e85a47add735",
   "metadata": {},
   "outputs": [
    {
     "data": {
      "text/plain": [
       "array([[1, 2, 3],\n",
       "       [3, 4, 5],\n",
       "       [5, 6, 7]])"
      ]
     },
     "execution_count": 101,
     "metadata": {},
     "output_type": "execute_result"
    }
   ],
   "source": [
    "a"
   ]
  },
  {
   "cell_type": "code",
   "execution_count": 102,
   "id": "bd7ab1ac-5304-47e5-907b-cb413b4f4770",
   "metadata": {},
   "outputs": [
    {
     "data": {
      "text/plain": [
       "array([[2, 3, 4],\n",
       "       [5, 6, 7],\n",
       "       [8, 9, 1]])"
      ]
     },
     "execution_count": 102,
     "metadata": {},
     "output_type": "execute_result"
    }
   ],
   "source": [
    "b"
   ]
  },
  {
   "cell_type": "code",
   "execution_count": 103,
   "id": "0e14f449-e8bf-4d39-8e75-d27efa81b7b9",
   "metadata": {},
   "outputs": [
    {
     "name": "stdout",
     "output_type": "stream",
     "text": [
      "[ 2 24  7]\n"
     ]
    }
   ],
   "source": [
    "print(np.einsum('ii,ii->i',a,b))"
   ]
  },
  {
   "cell_type": "code",
   "execution_count": 104,
   "id": "53695a70-7cf5-4289-95f6-7fc793b40f6b",
   "metadata": {},
   "outputs": [
    {
     "name": "stdout",
     "output_type": "stream",
     "text": [
      "5\n"
     ]
    }
   ],
   "source": [
    "a = np.array([[1,2],[3,4]])\n",
    "print(np.einsum('ii->',a))"
   ]
  },
  {
   "cell_type": "markdown",
   "id": "e22afce5-faf9-4650-bd09-962dceb68fdb",
   "metadata": {},
   "source": [
    "## linspace"
   ]
  },
  {
   "cell_type": "code",
   "execution_count": 108,
   "id": "f661254f-a215-4b81-852b-64b25f595257",
   "metadata": {},
   "outputs": [
    {
     "data": {
      "text/plain": [
       "array([ 10.  ,  20.11,  30.22,  40.33,  50.44,  60.56,  70.67,  80.78,  90.89, 101.  ])"
      ]
     },
     "execution_count": 108,
     "metadata": {},
     "output_type": "execute_result"
    }
   ],
   "source": [
    "np.linspace(10,101,10)  "
   ]
  },
  {
   "cell_type": "markdown",
   "id": "1e37092e-c3da-458a-afa8-4b3ccbb02d84",
   "metadata": {},
   "source": [
    "## roadcasting"
   ]
  },
  {
   "cell_type": "markdown",
   "id": "736f170d-3726-40df-9b67-2d1a73cc249a",
   "metadata": {},
   "source": [
    "## boardcasting"
   ]
  },
  {
   "cell_type": "code",
   "execution_count": null,
   "id": "fceab21a-de4b-4464-9c4b-02c7cc0fd029",
   "metadata": {},
   "outputs": [],
   "source": []
  }
 ],
 "metadata": {
  "kernelspec": {
   "display_name": "Python [conda env:base] *",
   "language": "python",
   "name": "conda-base-py"
  },
  "language_info": {
   "codemirror_mode": {
    "name": "ipython",
    "version": 3
   },
   "file_extension": ".py",
   "mimetype": "text/x-python",
   "name": "python",
   "nbconvert_exporter": "python",
   "pygments_lexer": "ipython3",
   "version": "3.12.7"
  }
 },
 "nbformat": 4,
 "nbformat_minor": 5
}
