{
 "cells": [
  {
   "cell_type": "markdown",
   "id": "572a0203-2995-4704-b526-d484522497ae",
   "metadata": {},
   "source": [
    "## single dimension NumPy Array\n"
   ]
  },
  {
   "cell_type": "code",
   "execution_count": 76,
   "id": "12225e99-74fe-42de-b3f3-70ee48224169",
   "metadata": {},
   "outputs": [],
   "source": [
    "# !pip install numpy"
   ]
  },
  {
   "cell_type": "code",
   "execution_count": 8,
   "id": "39486af3-b3ee-4dcf-b474-416319db1463",
   "metadata": {},
   "outputs": [
    {
     "data": {
      "text/plain": [
       "array([10, 20, 30, 40])"
      ]
     },
     "execution_count": 8,
     "metadata": {},
     "output_type": "execute_result"
    }
   ],
   "source": [
    "# we cannot perform in different data types\n",
    "import numpy as np\n",
    "n1 = np.array([10,20,30,40])\n",
    "n1"
   ]
  },
  {
   "cell_type": "code",
   "execution_count": 7,
   "id": "fa74132a-abdb-4b64-bdf1-0d132a49ea6f",
   "metadata": {},
   "outputs": [
    {
     "data": {
      "text/plain": [
       "numpy.ndarray"
      ]
     },
     "execution_count": 7,
     "metadata": {},
     "output_type": "execute_result"
    }
   ],
   "source": [
    "type(n1)"
   ]
  },
  {
   "cell_type": "markdown",
   "id": "047c0040-bbd1-41f8-9acd-7096fbb8e11d",
   "metadata": {},
   "source": [
    "## multidimensional numpy array"
   ]
  },
  {
   "cell_type": "code",
   "execution_count": 10,
   "id": "9970accf-c8fd-42e4-9037-c6f209597161",
   "metadata": {},
   "outputs": [
    {
     "name": "stdout",
     "output_type": "stream",
     "text": [
      "[[10 20 30]\n",
      " [10 80 90]\n",
      " [30 50 80]]\n"
     ]
    }
   ],
   "source": [
    "import numpy as np\n",
    "n2=np.array([[10,20,30],[10,80,90],[30,50,80]])\n",
    "print(n2)"
   ]
  },
  {
   "cell_type": "code",
   "execution_count": 11,
   "id": "874a85cc-cbbc-4891-bc0e-b76d283e3979",
   "metadata": {},
   "outputs": [
    {
     "data": {
      "text/plain": [
       "(3, 3)"
      ]
     },
     "execution_count": 11,
     "metadata": {},
     "output_type": "execute_result"
    }
   ],
   "source": [
    "n2.shape"
   ]
  },
  {
   "cell_type": "markdown",
   "id": "0a23dce9-c078-4524-b94b-0c27e96e0b3f",
   "metadata": {},
   "source": [
    "## initilize NumPy array with zeros"
   ]
  },
  {
   "cell_type": "code",
   "execution_count": 12,
   "id": "1720f9ce-5df3-4773-ba6e-a5dd505ff945",
   "metadata": {},
   "outputs": [
    {
     "data": {
      "text/plain": [
       "array([[0., 0., 0., 0., 0., 0., 0., 0., 0.],\n",
       "       [0., 0., 0., 0., 0., 0., 0., 0., 0.],\n",
       "       [0., 0., 0., 0., 0., 0., 0., 0., 0.],\n",
       "       [0., 0., 0., 0., 0., 0., 0., 0., 0.],\n",
       "       [0., 0., 0., 0., 0., 0., 0., 0., 0.],\n",
       "       [0., 0., 0., 0., 0., 0., 0., 0., 0.],\n",
       "       [0., 0., 0., 0., 0., 0., 0., 0., 0.],\n",
       "       [0., 0., 0., 0., 0., 0., 0., 0., 0.],\n",
       "       [0., 0., 0., 0., 0., 0., 0., 0., 0.]])"
      ]
     },
     "execution_count": 12,
     "metadata": {},
     "output_type": "execute_result"
    }
   ],
   "source": [
    "n3 = np.zeros((9,9))\n",
    "n3"
   ]
  },
  {
   "cell_type": "markdown",
   "id": "5eddd3ed-3aab-4f5a-80ed-cdf118c20fb7",
   "metadata": {},
   "source": [
    "## initilization a array of matrix with full then"
   ]
  },
  {
   "cell_type": "code",
   "execution_count": 14,
   "id": "9f63b7ba-eb0e-418e-8cb3-7542056aa984",
   "metadata": {},
   "outputs": [
    {
     "data": {
      "text/plain": [
       "array([[8, 8, 8, 8, 8, 8],\n",
       "       [8, 8, 8, 8, 8, 8],\n",
       "       [8, 8, 8, 8, 8, 8],\n",
       "       [8, 8, 8, 8, 8, 8],\n",
       "       [8, 8, 8, 8, 8, 8],\n",
       "       [8, 8, 8, 8, 8, 8]])"
      ]
     },
     "execution_count": 14,
     "metadata": {},
     "output_type": "execute_result"
    }
   ],
   "source": [
    "n4 = np.full((6,6),8)\n",
    "n4"
   ]
  },
  {
   "cell_type": "markdown",
   "id": "aed715f3-5f25-46f5-bf4b-3db0bcb7d1e1",
   "metadata": {},
   "source": [
    "## initilization of NumPy with a range"
   ]
  },
  {
   "cell_type": "code",
   "execution_count": 16,
   "id": "99005060-b317-46e6-a817-55c533d47ec9",
   "metadata": {},
   "outputs": [
    {
     "data": {
      "text/plain": [
       "array([10, 11, 12, 13, 14, 15, 16, 17, 18, 19])"
      ]
     },
     "execution_count": 16,
     "metadata": {},
     "output_type": "execute_result"
    }
   ],
   "source": [
    "n5 = np.arange(10,20)\n",
    "n5"
   ]
  },
  {
   "cell_type": "markdown",
   "id": "14d70b38-1b62-4db5-8290-db6094ed27e8",
   "metadata": {},
   "source": [
    "## initilization of NumPy array with the skip numbers"
   ]
  },
  {
   "cell_type": "code",
   "execution_count": 19,
   "id": "00adffec-bc3d-4d27-a733-7c3b2275d79e",
   "metadata": {},
   "outputs": [
    {
     "data": {
      "text/plain": [
       "array([1, 3, 5, 7, 9])"
      ]
     },
     "execution_count": 19,
     "metadata": {},
     "output_type": "execute_result"
    }
   ],
   "source": [
    "n6 = np.arange(1,10,2)\n",
    "n6"
   ]
  },
  {
   "cell_type": "markdown",
   "id": "fc526f1f-1d67-4032-978f-a3cc7657762f",
   "metadata": {},
   "source": [
    "## initilizaton Numpy array with the random numbers"
   ]
  },
  {
   "cell_type": "code",
   "execution_count": 24,
   "id": "34ea90f7-06d0-46cb-98c6-0c2cce4b6a2c",
   "metadata": {},
   "outputs": [
    {
     "data": {
      "text/plain": [
       "array([781, 995, 466, 317, 589, 168, 395, 836, 765, 804])"
      ]
     },
     "execution_count": 24,
     "metadata": {},
     "output_type": "execute_result"
    }
   ],
   "source": [
    "# OTP generation\n",
    "n7 = np.random.randint(100,1000,10)\n",
    "n7"
   ]
  },
  {
   "cell_type": "markdown",
   "id": "87ccb15c-21b7-42db-a3ad-edd5764e88a2",
   "metadata": {},
   "source": [
    "## initilization the array shape changes in fraction of seconds"
   ]
  },
  {
   "cell_type": "code",
   "execution_count": 25,
   "id": "c9124167-ece2-4b5d-99f9-2572b527b3c9",
   "metadata": {},
   "outputs": [
    {
     "data": {
      "text/plain": [
       "array([[10, 20, 30],\n",
       "       [10, 80, 90],\n",
       "       [30, 20, 80],\n",
       "       [30, 60, 90]])"
      ]
     },
     "execution_count": 25,
     "metadata": {},
     "output_type": "execute_result"
    }
   ],
   "source": [
    "n8 = np.array([[10,20,30],[10,80,90],[30,20,80],[30,60,90]])\n",
    "n8"
   ]
  },
  {
   "cell_type": "code",
   "execution_count": 26,
   "id": "ebf2a03a-d345-44b6-9d44-4fe283a3c4be",
   "metadata": {},
   "outputs": [
    {
     "data": {
      "text/plain": [
       "(4, 3)"
      ]
     },
     "execution_count": 26,
     "metadata": {},
     "output_type": "execute_result"
    }
   ],
   "source": [
    "n8.shape"
   ]
  },
  {
   "cell_type": "code",
   "execution_count": 28,
   "id": "b86a6ebc-3dc4-4d57-8821-67710ea9082a",
   "metadata": {},
   "outputs": [
    {
     "data": {
      "text/plain": [
       "array([[10, 20, 30, 10],\n",
       "       [80, 90, 30, 20],\n",
       "       [80, 30, 60, 90]])"
      ]
     },
     "execution_count": 28,
     "metadata": {},
     "output_type": "execute_result"
    }
   ],
   "source": [
    "n8.shape=(3,4)\n",
    "n8"
   ]
  },
  {
   "cell_type": "markdown",
   "id": "c4f1dd14-3df4-4d62-8300-d22db58f9378",
   "metadata": {},
   "source": [
    "## joining numpy array ."
   ]
  },
  {
   "cell_type": "code",
   "execution_count": 33,
   "id": "6715d87c-ce2d-4ffb-89cd-72f616c5c37a",
   "metadata": {},
   "outputs": [
    {
     "data": {
      "text/plain": [
       "array([[10, 20, 30, 40, 50, 60, 70, 80, 90, 15],\n",
       "       [11, 22, 33, 44, 55, 66, 77, 88, 99, 96]])"
      ]
     },
     "execution_count": 33,
     "metadata": {},
     "output_type": "execute_result"
    }
   ],
   "source": [
    "a = np.array([10,20,30,40,50,60,70,80,90,15])\n",
    "b = np.array([11,22,33,44,55,66,77,88,99,96])\n",
    "np.vstack((a,b))  #joining the numpy as a vertical section"
   ]
  },
  {
   "cell_type": "code",
   "execution_count": 34,
   "id": "57b1002a-2784-4802-86ce-04ebd66840d4",
   "metadata": {},
   "outputs": [
    {
     "data": {
      "text/plain": [
       "array([10, 20, 30, 40, 50, 60, 70, 80, 90, 15, 11, 22, 33, 44, 55, 66, 77,\n",
       "       88, 99, 96])"
      ]
     },
     "execution_count": 34,
     "metadata": {},
     "output_type": "execute_result"
    }
   ],
   "source": [
    "np.hstack((a,b)) #joining the numpy as a horizontal section"
   ]
  },
  {
   "cell_type": "code",
   "execution_count": 35,
   "id": "4c12fb00-5e56-437c-a7a6-a409dfa7f6b9",
   "metadata": {},
   "outputs": [
    {
     "data": {
      "text/plain": [
       "array([[10, 11],\n",
       "       [20, 22],\n",
       "       [30, 33],\n",
       "       [40, 44],\n",
       "       [50, 55],\n",
       "       [60, 66],\n",
       "       [70, 77],\n",
       "       [80, 88],\n",
       "       [90, 99],\n",
       "       [15, 96]])"
      ]
     },
     "execution_count": 35,
     "metadata": {},
     "output_type": "execute_result"
    }
   ],
   "source": [
    "np.column_stack((a,b)) #joining the numpy as a vertical column section"
   ]
  },
  {
   "cell_type": "markdown",
   "id": "70617825-a69b-4ef9-bfcb-4ef8cafdae8f",
   "metadata": {},
   "source": [
    "## numpy intersection and differrences"
   ]
  },
  {
   "cell_type": "code",
   "execution_count": 36,
   "id": "6cddf5b2-0214-4ff1-a68d-84a06529bb01",
   "metadata": {},
   "outputs": [
    {
     "data": {
      "text/plain": [
       "array([30, 50])"
      ]
     },
     "execution_count": 36,
     "metadata": {},
     "output_type": "execute_result"
    }
   ],
   "source": [
    "x = np.array([10,20,30,40,50,60])\n",
    "y = np.array([30,100,50,23,56,79])\n",
    "np.intersect1d(x,y)"
   ]
  },
  {
   "cell_type": "code",
   "execution_count": 37,
   "id": "092293b0-7ab1-47c9-9764-62b703dd6a97",
   "metadata": {},
   "outputs": [
    {
     "data": {
      "text/plain": [
       "array([10, 20, 40, 60])"
      ]
     },
     "execution_count": 37,
     "metadata": {},
     "output_type": "execute_result"
    }
   ],
   "source": [
    "np.setdiff1d(x,y)"
   ]
  },
  {
   "cell_type": "code",
   "execution_count": 38,
   "id": "2e2698d3-aad2-4e5f-a1fc-75dc7e9f7d93",
   "metadata": {},
   "outputs": [
    {
     "data": {
      "text/plain": [
       "array([ 23,  56,  79, 100])"
      ]
     },
     "execution_count": 38,
     "metadata": {},
     "output_type": "execute_result"
    }
   ],
   "source": [
    "np.setdiff1d(y,x)"
   ]
  },
  {
   "cell_type": "markdown",
   "id": "d840d540-efff-41a5-99d8-f09c14eb29a7",
   "metadata": {},
   "source": [
    "## addition of numpy arrays"
   ]
  },
  {
   "cell_type": "code",
   "execution_count": 39,
   "id": "55834b9c-6d85-4e3e-b6db-e18a1a2c1310",
   "metadata": {},
   "outputs": [
    {
     "data": {
      "text/plain": [
       "100"
      ]
     },
     "execution_count": 39,
     "metadata": {},
     "output_type": "execute_result"
    }
   ],
   "source": [
    "t=np.array([10,20])\n",
    "s=np.array([30,40])\n",
    "np.sum([t,s])"
   ]
  },
  {
   "cell_type": "code",
   "execution_count": 40,
   "id": "b32abcbd-bafd-471e-b638-a1a82caeb41f",
   "metadata": {},
   "outputs": [
    {
     "data": {
      "text/plain": [
       "array([40, 60])"
      ]
     },
     "execution_count": 40,
     "metadata": {},
     "output_type": "execute_result"
    }
   ],
   "source": [
    "np.sum([t,s],axis=0)"
   ]
  },
  {
   "cell_type": "code",
   "execution_count": 41,
   "id": "fdc2f37a-54da-437b-bf39-ac5434c2a5d6",
   "metadata": {},
   "outputs": [
    {
     "data": {
      "text/plain": [
       "array([30, 70])"
      ]
     },
     "execution_count": 41,
     "metadata": {},
     "output_type": "execute_result"
    }
   ],
   "source": [
    "np.sum([t,s],axis=1)"
   ]
  },
  {
   "cell_type": "markdown",
   "id": "7ecf6a9f-1d39-4a92-a999-770d0c428938",
   "metadata": {},
   "source": [
    "## numpy array mathematics"
   ]
  },
  {
   "cell_type": "code",
   "execution_count": 42,
   "id": "7dde5b70-1b31-41f4-afe0-638bfa31029c",
   "metadata": {},
   "outputs": [
    {
     "data": {
      "text/plain": [
       "array([11, 21, 31])"
      ]
     },
     "execution_count": 42,
     "metadata": {},
     "output_type": "execute_result"
    }
   ],
   "source": [
    "p=np.array([10,20,30])\n",
    "p+1"
   ]
  },
  {
   "cell_type": "code",
   "execution_count": 43,
   "id": "59628af6-ac18-4f8c-a629-3454a36f0a3b",
   "metadata": {},
   "outputs": [
    {
     "data": {
      "text/plain": [
       "array([ 9, 19, 29])"
      ]
     },
     "execution_count": 43,
     "metadata": {},
     "output_type": "execute_result"
    }
   ],
   "source": [
    "p-1"
   ]
  },
  {
   "cell_type": "code",
   "execution_count": 44,
   "id": "1e1d212a-f793-4261-98f8-17fd70d45b4d",
   "metadata": {},
   "outputs": [
    {
     "data": {
      "text/plain": [
       "array([ 5., 10., 15.])"
      ]
     },
     "execution_count": 44,
     "metadata": {},
     "output_type": "execute_result"
    }
   ],
   "source": [
    "p/2"
   ]
  },
  {
   "cell_type": "code",
   "execution_count": 45,
   "id": "b3db8eee-d3ee-455d-b0dd-a17f955d3f0f",
   "metadata": {},
   "outputs": [
    {
     "data": {
      "text/plain": [
       "array([0, 0, 0], dtype=int32)"
      ]
     },
     "execution_count": 45,
     "metadata": {},
     "output_type": "execute_result"
    }
   ],
   "source": [
    "p%2"
   ]
  },
  {
   "cell_type": "code",
   "execution_count": 47,
   "id": "96a7532a-93ae-4d68-8539-a2afe2c75e36",
   "metadata": {},
   "outputs": [
    {
     "data": {
      "text/plain": [
       "array([20, 40, 60])"
      ]
     },
     "execution_count": 47,
     "metadata": {},
     "output_type": "execute_result"
    }
   ],
   "source": [
    "p*2"
   ]
  },
  {
   "cell_type": "markdown",
   "id": "2ac47cd1-a957-4e85-89d3-c640c081f408",
   "metadata": {},
   "source": [
    "## NumPy maths functions"
   ]
  },
  {
   "cell_type": "code",
   "execution_count": 48,
   "id": "2cde475d-89c0-4069-ac40-40eeef6a2875",
   "metadata": {},
   "outputs": [
    {
     "data": {
      "text/plain": [
       "30.0"
      ]
     },
     "execution_count": 48,
     "metadata": {},
     "output_type": "execute_result"
    }
   ],
   "source": [
    "nn=np.array([10,20,30,60])\n",
    "np.mean(nn)"
   ]
  },
  {
   "cell_type": "code",
   "execution_count": 49,
   "id": "3ef2e158-a81b-4f70-8af2-a96d32ee7150",
   "metadata": {},
   "outputs": [
    {
     "data": {
      "text/plain": [
       "25.0"
      ]
     },
     "execution_count": 49,
     "metadata": {},
     "output_type": "execute_result"
    }
   ],
   "source": [
    "np.median(nn)"
   ]
  },
  {
   "cell_type": "code",
   "execution_count": 50,
   "id": "55b80a1a-77c5-479a-83e5-f3b7119fbfec",
   "metadata": {},
   "outputs": [
    {
     "data": {
      "text/plain": [
       "18.708286933869708"
      ]
     },
     "execution_count": 50,
     "metadata": {},
     "output_type": "execute_result"
    }
   ],
   "source": [
    "np.std(nn)"
   ]
  },
  {
   "cell_type": "code",
   "execution_count": 51,
   "id": "71fb41d0-f6ed-41cc-adaa-42ec6f94c75f",
   "metadata": {},
   "outputs": [
    {
     "data": {
      "text/plain": [
       "350.0"
      ]
     },
     "execution_count": 51,
     "metadata": {},
     "output_type": "execute_result"
    }
   ],
   "source": [
    "np.var(nn)"
   ]
  },
  {
   "cell_type": "code",
   "execution_count": 52,
   "id": "54fc483f-d7cb-432e-b61e-6a844ded0ffb",
   "metadata": {},
   "outputs": [
    {
     "data": {
      "text/plain": [
       "10"
      ]
     },
     "execution_count": 52,
     "metadata": {},
     "output_type": "execute_result"
    }
   ],
   "source": [
    "np.min(nn)"
   ]
  },
  {
   "cell_type": "code",
   "execution_count": 53,
   "id": "f00dc276-14f5-447e-9167-509a568a6e89",
   "metadata": {},
   "outputs": [
    {
     "data": {
      "text/plain": [
       "60"
      ]
     },
     "execution_count": 53,
     "metadata": {},
     "output_type": "execute_result"
    }
   ],
   "source": [
    "np.max(nn)"
   ]
  },
  {
   "cell_type": "code",
   "execution_count": 56,
   "id": "38e3ea75-7653-461b-8941-93ed64e12c21",
   "metadata": {},
   "outputs": [
    {
     "data": {
      "text/plain": [
       "30.0"
      ]
     },
     "execution_count": 56,
     "metadata": {},
     "output_type": "execute_result"
    }
   ],
   "source": [
    "np.average(nn)"
   ]
  },
  {
   "cell_type": "code",
   "execution_count": 59,
   "id": "d7858739-0c6e-41df-bbe3-678cd342842b",
   "metadata": {},
   "outputs": [
    {
     "data": {
      "text/plain": [
       "25.0"
      ]
     },
     "execution_count": 59,
     "metadata": {},
     "output_type": "execute_result"
    }
   ],
   "source": [
    "np.percentile(nn,50)"
   ]
  },
  {
   "cell_type": "code",
   "execution_count": 63,
   "id": "3e7d51ea-3ead-44e8-a2e7-ed6d06487426",
   "metadata": {},
   "outputs": [
    {
     "data": {
      "text/plain": [
       "17.5"
      ]
     },
     "execution_count": 63,
     "metadata": {},
     "output_type": "execute_result"
    }
   ],
   "source": [
    "np.quantile(nn,0.25)"
   ]
  },
  {
   "cell_type": "code",
   "execution_count": 65,
   "id": "0c59492f-5a18-40c6-8b42-c632d3b5c50a",
   "metadata": {},
   "outputs": [
    {
     "data": {
      "text/plain": [
       "array(466.66666667)"
      ]
     },
     "execution_count": 65,
     "metadata": {},
     "output_type": "execute_result"
    }
   ],
   "source": [
    "np.cov(nn)  #coefficient of varaiance"
   ]
  },
  {
   "cell_type": "code",
   "execution_count": 72,
   "id": "0561d134-ecb5-4cd4-b73f-6afb87aca3c8",
   "metadata": {},
   "outputs": [],
   "source": [
    "# !pip install scipy"
   ]
  },
  {
   "cell_type": "code",
   "execution_count": 70,
   "id": "e43985a1-9ba0-45ec-b0cb-b607bab59eb9",
   "metadata": {},
   "outputs": [],
   "source": [
    "from scipy import stats"
   ]
  },
  {
   "cell_type": "code",
   "execution_count": 71,
   "id": "4017bf71-bde0-40c1-9c7f-1f3a90fc5b65",
   "metadata": {},
   "outputs": [
    {
     "data": {
      "text/plain": [
       "ModeResult(mode=10, count=1)"
      ]
     },
     "execution_count": 71,
     "metadata": {},
     "output_type": "execute_result"
    }
   ],
   "source": [
    "stats.mode(nn)"
   ]
  },
  {
   "cell_type": "markdown",
   "id": "b85fc7b3-9866-4d39-b154-9dbdc1d5cd0b",
   "metadata": {},
   "source": [
    "## saving and loading NumPy array"
   ]
  },
  {
   "cell_type": "code",
   "execution_count": 74,
   "id": "05ff6f45-1e70-474a-a7cc-049baa187fb6",
   "metadata": {},
   "outputs": [],
   "source": [
    "n11=np.array([10,20,30,40,50])\n",
    "np.save('my_name',n11) #saving the NumPy array"
   ]
  },
  {
   "cell_type": "code",
   "execution_count": 75,
   "id": "9050c3fc-eb21-460c-9fbb-f180b78331db",
   "metadata": {},
   "outputs": [
    {
     "data": {
      "text/plain": [
       "array([10, 20, 30, 40, 50])"
      ]
     },
     "execution_count": 75,
     "metadata": {},
     "output_type": "execute_result"
    }
   ],
   "source": [
    "np.load('my_name.npy')"
   ]
  },
  {
   "cell_type": "code",
   "execution_count": 77,
   "id": "92063b80-65c1-4cb9-9299-a1d2bf5d0d5e",
   "metadata": {},
   "outputs": [
    {
     "name": "stdout",
     "output_type": "stream",
     "text": [
      "Collecting graphviz\n",
      "  Downloading graphviz-0.20.3-py3-none-any.whl.metadata (12 kB)\n",
      "Downloading graphviz-0.20.3-py3-none-any.whl (47 kB)\n",
      "Installing collected packages: graphviz\n",
      "Successfully installed graphviz-0.20.3\n",
      "Note: you may need to restart the kernel to use updated packages.\n"
     ]
    }
   ],
   "source": [
    "pip install graphviz"
   ]
  },
  {
   "cell_type": "code",
   "execution_count": 78,
   "id": "b1c085fd-c52d-4d33-bc09-3327ad3dbda6",
   "metadata": {},
   "outputs": [
    {
     "name": "stdout",
     "output_type": "stream",
     "text": [
      "Requirement already satisfied: dask in c:\\users\\dell\\anaconda3\\lib\\site-packages (2024.8.2)\n",
      "Requirement already satisfied: click>=8.1 in c:\\users\\dell\\anaconda3\\lib\\site-packages (from dask) (8.1.7)\n",
      "Requirement already satisfied: cloudpickle>=3.0.0 in c:\\users\\dell\\anaconda3\\lib\\site-packages (from dask) (3.0.0)\n",
      "Requirement already satisfied: fsspec>=2021.09.0 in c:\\users\\dell\\anaconda3\\lib\\site-packages (from dask) (2024.6.1)\n",
      "Requirement already satisfied: packaging>=20.0 in c:\\users\\dell\\anaconda3\\lib\\site-packages (from dask) (24.1)\n",
      "Requirement already satisfied: partd>=1.4.0 in c:\\users\\dell\\anaconda3\\lib\\site-packages (from dask) (1.4.1)\n",
      "Requirement already satisfied: pyyaml>=5.3.1 in c:\\users\\dell\\anaconda3\\lib\\site-packages (from dask) (6.0.1)\n",
      "Requirement already satisfied: toolz>=0.10.0 in c:\\users\\dell\\anaconda3\\lib\\site-packages (from dask) (0.12.0)\n",
      "Requirement already satisfied: colorama in c:\\users\\dell\\anaconda3\\lib\\site-packages (from click>=8.1->dask) (0.4.6)\n",
      "Requirement already satisfied: locket in c:\\users\\dell\\anaconda3\\lib\\site-packages (from partd>=1.4.0->dask) (1.0.0)\n"
     ]
    }
   ],
   "source": [
    "!pip install dask"
   ]
  },
  {
   "cell_type": "code",
   "execution_count": 79,
   "id": "77b0b946-f864-4821-82ad-9d3da5ddc110",
   "metadata": {},
   "outputs": [
    {
     "name": "stdout",
     "output_type": "stream",
     "text": [
      "Requirement already satisfied: pandas in c:\\users\\dell\\anaconda3\\lib\\site-packages (2.2.2)\n",
      "Requirement already satisfied: numpy>=1.26.0 in c:\\users\\dell\\anaconda3\\lib\\site-packages (from pandas) (1.26.4)\n",
      "Requirement already satisfied: python-dateutil>=2.8.2 in c:\\users\\dell\\anaconda3\\lib\\site-packages (from pandas) (2.9.0.post0)\n",
      "Requirement already satisfied: pytz>=2020.1 in c:\\users\\dell\\anaconda3\\lib\\site-packages (from pandas) (2024.1)\n",
      "Requirement already satisfied: tzdata>=2022.7 in c:\\users\\dell\\anaconda3\\lib\\site-packages (from pandas) (2023.3)\n",
      "Requirement already satisfied: six>=1.5 in c:\\users\\dell\\anaconda3\\lib\\site-packages (from python-dateutil>=2.8.2->pandas) (1.16.0)\n"
     ]
    }
   ],
   "source": [
    "!pip install pandas"
   ]
  },
  {
   "cell_type": "code",
   "execution_count": 80,
   "id": "cc122fb6-d3c8-4a2c-b7cc-ef0ebc3685b9",
   "metadata": {},
   "outputs": [
    {
     "name": "stdout",
     "output_type": "stream",
     "text": [
      "Collecting pyspark\n",
      "  Downloading pyspark-4.0.0.tar.gz (434.1 MB)\n",
      "     ---------------------------------------- 0.0/434.1 MB ? eta -:--:--\n",
      "     ---------------------------------------- 0.0/434.1 MB ? eta -:--:--\n",
      "     ---------------------------------------- 0.5/434.1 MB 2.1 MB/s eta 0:03:27\n",
      "     ---------------------------------------- 0.8/434.1 MB 2.1 MB/s eta 0:03:27\n",
      "     ---------------------------------------- 1.3/434.1 MB 1.8 MB/s eta 0:03:59\n",
      "     ---------------------------------------- 1.6/434.1 MB 2.2 MB/s eta 0:03:21\n",
      "     ---------------------------------------- 2.1/434.1 MB 1.9 MB/s eta 0:03:49\n",
      "     ---------------------------------------- 2.4/434.1 MB 1.9 MB/s eta 0:03:46\n",
      "     ---------------------------------------- 2.9/434.1 MB 1.9 MB/s eta 0:03:52\n",
      "     ---------------------------------------- 3.1/434.1 MB 1.9 MB/s eta 0:03:49\n",
      "     ---------------------------------------- 3.7/434.1 MB 1.9 MB/s eta 0:03:47\n",
      "     ---------------------------------------- 4.2/434.1 MB 1.9 MB/s eta 0:03:43\n",
      "     ---------------------------------------- 4.5/434.1 MB 1.9 MB/s eta 0:03:46\n",
      "     ---------------------------------------- 4.7/434.1 MB 1.9 MB/s eta 0:03:49\n",
      "     ---------------------------------------- 5.2/434.1 MB 1.9 MB/s eta 0:03:52\n",
      "      --------------------------------------- 5.5/434.1 MB 1.8 MB/s eta 0:03:56\n",
      "      --------------------------------------- 5.8/434.1 MB 1.9 MB/s eta 0:03:50\n",
      "      --------------------------------------- 6.3/434.1 MB 1.8 MB/s eta 0:03:52\n",
      "      --------------------------------------- 6.8/434.1 MB 1.9 MB/s eta 0:03:51\n",
      "      --------------------------------------- 7.1/434.1 MB 1.8 MB/s eta 0:03:52\n",
      "      --------------------------------------- 7.6/434.1 MB 1.9 MB/s eta 0:03:49\n",
      "      --------------------------------------- 7.9/434.1 MB 1.9 MB/s eta 0:03:50\n",
      "      --------------------------------------- 8.4/434.1 MB 1.9 MB/s eta 0:03:49\n",
      "      --------------------------------------- 8.7/434.1 MB 1.9 MB/s eta 0:03:48\n",
      "      --------------------------------------- 9.2/434.1 MB 1.9 MB/s eta 0:03:45\n",
      "      --------------------------------------- 9.7/434.1 MB 1.9 MB/s eta 0:03:45\n",
      "      -------------------------------------- 10.0/434.1 MB 1.9 MB/s eta 0:03:43\n",
      "      -------------------------------------- 10.5/434.1 MB 1.9 MB/s eta 0:03:43\n",
      "      -------------------------------------- 11.0/434.1 MB 1.9 MB/s eta 0:03:42\n",
      "     - ------------------------------------- 11.5/434.1 MB 1.9 MB/s eta 0:03:39\n",
      "     - ------------------------------------- 11.8/434.1 MB 1.9 MB/s eta 0:03:38\n",
      "     - ------------------------------------- 12.3/434.1 MB 1.9 MB/s eta 0:03:37\n",
      "     - ------------------------------------- 12.8/434.1 MB 1.9 MB/s eta 0:03:37\n",
      "     - ------------------------------------- 13.1/434.1 MB 1.9 MB/s eta 0:03:37\n",
      "     - ------------------------------------- 13.6/434.1 MB 2.0 MB/s eta 0:03:35\n",
      "     - ------------------------------------- 13.9/434.1 MB 1.9 MB/s eta 0:03:37\n",
      "     - ------------------------------------- 14.4/434.1 MB 1.9 MB/s eta 0:03:36\n",
      "     - ------------------------------------- 14.9/434.1 MB 2.0 MB/s eta 0:03:35\n",
      "     - ------------------------------------- 15.5/434.1 MB 2.0 MB/s eta 0:03:34\n",
      "     - ------------------------------------- 15.7/434.1 MB 2.0 MB/s eta 0:03:33\n",
      "     - ------------------------------------- 16.3/434.1 MB 2.0 MB/s eta 0:03:32\n",
      "     - ------------------------------------- 16.8/434.1 MB 2.0 MB/s eta 0:03:31\n",
      "     - ------------------------------------- 17.3/434.1 MB 2.0 MB/s eta 0:03:30\n",
      "     - ------------------------------------- 17.6/434.1 MB 2.0 MB/s eta 0:03:31\n",
      "     - ------------------------------------- 18.1/434.1 MB 2.0 MB/s eta 0:03:29\n",
      "     - ------------------------------------- 18.6/434.1 MB 2.0 MB/s eta 0:03:29\n",
      "     - ------------------------------------- 18.9/434.1 MB 2.0 MB/s eta 0:03:29\n",
      "     - ------------------------------------- 19.4/434.1 MB 2.0 MB/s eta 0:03:29\n",
      "     - ------------------------------------- 19.9/434.1 MB 2.0 MB/s eta 0:03:28\n",
      "     - ------------------------------------- 20.2/434.1 MB 2.0 MB/s eta 0:03:29\n",
      "     - ------------------------------------- 20.4/434.1 MB 2.0 MB/s eta 0:03:30\n",
      "     - ------------------------------------- 21.0/434.1 MB 2.0 MB/s eta 0:03:29\n",
      "     - ------------------------------------- 21.5/434.1 MB 2.0 MB/s eta 0:03:28\n",
      "     - ------------------------------------- 22.0/434.1 MB 2.0 MB/s eta 0:03:27\n",
      "     -- ------------------------------------ 22.5/434.1 MB 2.0 MB/s eta 0:03:26\n",
      "     -- ------------------------------------ 23.1/434.1 MB 2.0 MB/s eta 0:03:25\n",
      "     -- ------------------------------------ 23.6/434.1 MB 2.0 MB/s eta 0:03:23\n",
      "     -- ------------------------------------ 24.1/434.1 MB 2.0 MB/s eta 0:03:22\n",
      "     -- ------------------------------------ 24.6/434.1 MB 2.0 MB/s eta 0:03:21\n",
      "     -- ------------------------------------ 25.2/434.1 MB 2.0 MB/s eta 0:03:20\n",
      "     -- ------------------------------------ 25.7/434.1 MB 2.1 MB/s eta 0:03:20\n",
      "     -- ------------------------------------ 26.2/434.1 MB 2.1 MB/s eta 0:03:18\n",
      "     -- ------------------------------------ 26.7/434.1 MB 2.1 MB/s eta 0:03:17\n",
      "     -- ------------------------------------ 27.3/434.1 MB 2.1 MB/s eta 0:03:15\n",
      "     -- ------------------------------------ 28.0/434.1 MB 2.1 MB/s eta 0:03:13\n",
      "     -- ------------------------------------ 28.6/434.1 MB 2.1 MB/s eta 0:03:12\n",
      "     -- ------------------------------------ 29.4/434.1 MB 2.1 MB/s eta 0:03:10\n",
      "     -- ------------------------------------ 29.9/434.1 MB 2.1 MB/s eta 0:03:09\n",
      "     -- ------------------------------------ 30.7/434.1 MB 2.2 MB/s eta 0:03:07\n",
      "     -- ------------------------------------ 31.2/434.1 MB 2.2 MB/s eta 0:03:06\n",
      "     -- ------------------------------------ 32.2/434.1 MB 2.2 MB/s eta 0:03:03\n",
      "     -- ------------------------------------ 33.0/434.1 MB 2.2 MB/s eta 0:03:00\n",
      "     --- ----------------------------------- 34.1/434.1 MB 2.3 MB/s eta 0:02:57\n",
      "     --- ----------------------------------- 34.9/434.1 MB 2.3 MB/s eta 0:02:55\n",
      "     --- ----------------------------------- 35.7/434.1 MB 2.3 MB/s eta 0:02:53\n",
      "     --- ----------------------------------- 36.4/434.1 MB 2.3 MB/s eta 0:02:51\n",
      "     --- ----------------------------------- 37.2/434.1 MB 2.4 MB/s eta 0:02:49\n",
      "     --- ----------------------------------- 38.0/434.1 MB 2.4 MB/s eta 0:02:48\n",
      "     --- ----------------------------------- 38.8/434.1 MB 2.4 MB/s eta 0:02:46\n",
      "     --- ----------------------------------- 39.6/434.1 MB 2.4 MB/s eta 0:02:45\n",
      "     --- ----------------------------------- 40.4/434.1 MB 2.4 MB/s eta 0:02:43\n",
      "     --- ----------------------------------- 41.4/434.1 MB 2.4 MB/s eta 0:02:41\n",
      "     --- ----------------------------------- 42.2/434.1 MB 2.5 MB/s eta 0:02:40\n",
      "     --- ----------------------------------- 43.0/434.1 MB 2.5 MB/s eta 0:02:38\n",
      "     --- ----------------------------------- 44.0/434.1 MB 2.5 MB/s eta 0:02:36\n",
      "     ---- ---------------------------------- 44.8/434.1 MB 2.5 MB/s eta 0:02:35\n",
      "     ---- ---------------------------------- 45.6/434.1 MB 2.5 MB/s eta 0:02:34\n",
      "     ---- ---------------------------------- 46.4/434.1 MB 2.6 MB/s eta 0:02:32\n",
      "     ---- ---------------------------------- 47.2/434.1 MB 2.6 MB/s eta 0:02:31\n",
      "     ---- ---------------------------------- 48.0/434.1 MB 2.6 MB/s eta 0:02:30\n",
      "     ---- ---------------------------------- 48.8/434.1 MB 2.6 MB/s eta 0:02:29\n",
      "     ---- ---------------------------------- 49.5/434.1 MB 2.6 MB/s eta 0:02:28\n",
      "     ---- ---------------------------------- 50.1/434.1 MB 2.6 MB/s eta 0:02:28\n",
      "     ---- ---------------------------------- 50.9/434.1 MB 2.6 MB/s eta 0:02:27\n",
      "     ---- ---------------------------------- 51.6/434.1 MB 2.6 MB/s eta 0:02:26\n",
      "     ---- ---------------------------------- 52.2/434.1 MB 2.6 MB/s eta 0:02:26\n",
      "     ---- ---------------------------------- 53.2/434.1 MB 2.6 MB/s eta 0:02:24\n",
      "     ---- ---------------------------------- 54.0/434.1 MB 2.7 MB/s eta 0:02:23\n",
      "     ---- ---------------------------------- 54.8/434.1 MB 2.7 MB/s eta 0:02:23\n",
      "     ---- ---------------------------------- 55.6/434.1 MB 2.7 MB/s eta 0:02:22\n",
      "     ----- --------------------------------- 56.6/434.1 MB 2.7 MB/s eta 0:02:20\n",
      "     ----- --------------------------------- 57.4/434.1 MB 2.7 MB/s eta 0:02:19\n",
      "     ----- --------------------------------- 57.9/434.1 MB 2.7 MB/s eta 0:02:19\n",
      "     ----- --------------------------------- 58.7/434.1 MB 2.7 MB/s eta 0:02:18\n",
      "     ----- --------------------------------- 59.5/434.1 MB 2.7 MB/s eta 0:02:18\n",
      "     ----- --------------------------------- 60.3/434.1 MB 2.7 MB/s eta 0:02:17\n",
      "     ----- --------------------------------- 61.1/434.1 MB 2.8 MB/s eta 0:02:16\n",
      "     ----- --------------------------------- 61.9/434.1 MB 2.8 MB/s eta 0:02:15\n",
      "     ----- --------------------------------- 62.7/434.1 MB 2.8 MB/s eta 0:02:15\n",
      "     ----- --------------------------------- 63.4/434.1 MB 2.8 MB/s eta 0:02:14\n",
      "     ----- --------------------------------- 64.2/434.1 MB 2.8 MB/s eta 0:02:13\n",
      "     ----- --------------------------------- 65.0/434.1 MB 2.8 MB/s eta 0:02:12\n",
      "     ----- --------------------------------- 65.8/434.1 MB 2.8 MB/s eta 0:02:12\n",
      "     ------ -------------------------------- 66.8/434.1 MB 2.8 MB/s eta 0:02:11\n",
      "     ------ -------------------------------- 67.6/434.1 MB 2.8 MB/s eta 0:02:10\n",
      "     ------ -------------------------------- 68.7/434.1 MB 2.8 MB/s eta 0:02:09\n",
      "     ------ -------------------------------- 69.5/434.1 MB 2.9 MB/s eta 0:02:08\n",
      "     ------ -------------------------------- 70.5/434.1 MB 2.9 MB/s eta 0:02:07\n",
      "     ------ -------------------------------- 71.3/434.1 MB 2.9 MB/s eta 0:02:07\n",
      "     ------ -------------------------------- 72.1/434.1 MB 2.9 MB/s eta 0:02:06\n",
      "     ------ -------------------------------- 72.9/434.1 MB 2.9 MB/s eta 0:02:05\n",
      "     ------ -------------------------------- 73.7/434.1 MB 2.9 MB/s eta 0:02:05\n",
      "     ------ -------------------------------- 74.4/434.1 MB 2.9 MB/s eta 0:02:04\n",
      "     ------ -------------------------------- 75.5/434.1 MB 2.9 MB/s eta 0:02:03\n",
      "     ------ -------------------------------- 76.3/434.1 MB 2.9 MB/s eta 0:02:03\n",
      "     ------ -------------------------------- 77.1/434.1 MB 2.9 MB/s eta 0:02:02\n",
      "     ------ -------------------------------- 77.9/434.1 MB 2.9 MB/s eta 0:02:02\n",
      "     ------- ------------------------------- 78.6/434.1 MB 2.9 MB/s eta 0:02:01\n",
      "     ------- ------------------------------- 79.7/434.1 MB 3.0 MB/s eta 0:02:00\n",
      "     ------- ------------------------------- 80.5/434.1 MB 3.0 MB/s eta 0:02:00\n",
      "     ------- ------------------------------- 81.0/434.1 MB 3.0 MB/s eta 0:02:00\n",
      "     ------- ------------------------------- 81.8/434.1 MB 3.0 MB/s eta 0:01:59\n",
      "     ------- ------------------------------- 82.6/434.1 MB 3.0 MB/s eta 0:01:58\n",
      "     ------- ------------------------------- 83.4/434.1 MB 3.0 MB/s eta 0:01:58\n",
      "     ------- ------------------------------- 84.1/434.1 MB 3.0 MB/s eta 0:01:58\n",
      "     ------- ------------------------------- 84.9/434.1 MB 3.0 MB/s eta 0:01:57\n",
      "     ------- ------------------------------- 85.7/434.1 MB 3.0 MB/s eta 0:01:57\n",
      "     ------- ------------------------------- 86.8/434.1 MB 3.0 MB/s eta 0:01:56\n",
      "     ------- ------------------------------- 87.6/434.1 MB 3.0 MB/s eta 0:01:55\n",
      "     ------- ------------------------------- 88.3/434.1 MB 3.0 MB/s eta 0:01:55\n",
      "     -------- ------------------------------ 89.1/434.1 MB 3.0 MB/s eta 0:01:54\n",
      "     -------- ------------------------------ 90.2/434.1 MB 3.0 MB/s eta 0:01:54\n",
      "     -------- ------------------------------ 91.0/434.1 MB 3.0 MB/s eta 0:01:53\n",
      "     -------- ------------------------------ 91.8/434.1 MB 3.1 MB/s eta 0:01:53\n",
      "     -------- ------------------------------ 92.5/434.1 MB 3.1 MB/s eta 0:01:52\n",
      "     -------- ------------------------------ 93.3/434.1 MB 3.1 MB/s eta 0:01:51\n",
      "     -------- ------------------------------ 94.4/434.1 MB 3.1 MB/s eta 0:01:50\n",
      "     -------- ------------------------------ 95.2/434.1 MB 3.1 MB/s eta 0:01:49\n",
      "     -------- ------------------------------ 95.9/434.1 MB 3.1 MB/s eta 0:01:49\n",
      "     -------- ------------------------------ 96.5/434.1 MB 3.1 MB/s eta 0:01:48\n",
      "     -------- ------------------------------ 97.5/434.1 MB 3.2 MB/s eta 0:01:47\n",
      "     -------- ------------------------------ 98.3/434.1 MB 3.2 MB/s eta 0:01:46\n",
      "     -------- ------------------------------ 98.6/434.1 MB 3.2 MB/s eta 0:01:46\n",
      "     -------- ------------------------------ 99.6/434.1 MB 3.2 MB/s eta 0:01:46\n",
      "     -------- ----------------------------- 100.4/434.1 MB 3.2 MB/s eta 0:01:45\n",
      "     -------- ----------------------------- 101.2/434.1 MB 3.2 MB/s eta 0:01:44\n",
      "     -------- ----------------------------- 102.0/434.1 MB 3.2 MB/s eta 0:01:44\n",
      "     -------- ----------------------------- 102.8/434.1 MB 3.2 MB/s eta 0:01:43\n",
      "     --------- ---------------------------- 103.5/434.1 MB 3.3 MB/s eta 0:01:42\n",
      "     --------- ---------------------------- 104.6/434.1 MB 3.3 MB/s eta 0:01:41\n",
      "     --------- ---------------------------- 105.4/434.1 MB 3.3 MB/s eta 0:01:40\n",
      "     --------- ---------------------------- 106.2/434.1 MB 3.3 MB/s eta 0:01:40\n",
      "     --------- ---------------------------- 107.2/434.1 MB 3.3 MB/s eta 0:01:39\n",
      "     --------- ---------------------------- 108.0/434.1 MB 3.3 MB/s eta 0:01:38\n",
      "     --------- ---------------------------- 108.8/434.1 MB 3.3 MB/s eta 0:01:38\n",
      "     --------- ---------------------------- 109.6/434.1 MB 3.4 MB/s eta 0:01:37\n",
      "     --------- ---------------------------- 110.6/434.1 MB 3.4 MB/s eta 0:01:36\n",
      "     --------- ---------------------------- 111.4/434.1 MB 3.4 MB/s eta 0:01:36\n",
      "     --------- ---------------------------- 112.2/434.1 MB 3.4 MB/s eta 0:01:35\n",
      "     --------- ---------------------------- 113.0/434.1 MB 3.4 MB/s eta 0:01:35\n",
      "     --------- ---------------------------- 114.0/434.1 MB 3.4 MB/s eta 0:01:34\n",
      "     ---------- --------------------------- 115.1/434.1 MB 3.4 MB/s eta 0:01:33\n",
      "     ---------- --------------------------- 115.9/434.1 MB 3.5 MB/s eta 0:01:32\n",
      "     ---------- --------------------------- 116.9/434.1 MB 3.5 MB/s eta 0:01:32\n",
      "     ---------- --------------------------- 118.0/434.1 MB 3.5 MB/s eta 0:01:31\n",
      "     ---------- --------------------------- 118.8/434.1 MB 3.5 MB/s eta 0:01:30\n",
      "     ---------- --------------------------- 119.8/434.1 MB 3.5 MB/s eta 0:01:29\n",
      "     ---------- --------------------------- 120.6/434.1 MB 3.6 MB/s eta 0:01:29\n",
      "     ---------- --------------------------- 121.4/434.1 MB 3.6 MB/s eta 0:01:28\n",
      "     ---------- --------------------------- 122.2/434.1 MB 3.6 MB/s eta 0:01:28\n",
      "     ---------- --------------------------- 123.5/434.1 MB 3.6 MB/s eta 0:01:27\n",
      "     ---------- --------------------------- 124.5/434.1 MB 3.6 MB/s eta 0:01:26\n",
      "     ----------- -------------------------- 125.8/434.1 MB 3.6 MB/s eta 0:01:25\n",
      "     ----------- -------------------------- 126.9/434.1 MB 3.7 MB/s eta 0:01:24\n",
      "     ----------- -------------------------- 127.9/434.1 MB 3.7 MB/s eta 0:01:24\n",
      "     ----------- -------------------------- 128.2/434.1 MB 3.7 MB/s eta 0:01:23\n",
      "     ----------- -------------------------- 129.8/434.1 MB 3.7 MB/s eta 0:01:22\n",
      "     ----------- -------------------------- 130.8/434.1 MB 3.7 MB/s eta 0:01:22\n",
      "     ----------- -------------------------- 131.9/434.1 MB 3.8 MB/s eta 0:01:21\n",
      "     ----------- -------------------------- 133.2/434.1 MB 3.8 MB/s eta 0:01:20\n",
      "     ----------- -------------------------- 134.2/434.1 MB 3.8 MB/s eta 0:01:19\n",
      "     ----------- -------------------------- 135.3/434.1 MB 3.8 MB/s eta 0:01:18\n",
      "     ----------- -------------------------- 136.3/434.1 MB 3.9 MB/s eta 0:01:18\n",
      "     ------------ ------------------------- 137.4/434.1 MB 3.9 MB/s eta 0:01:17\n",
      "     ------------ ------------------------- 138.4/434.1 MB 3.9 MB/s eta 0:01:16\n",
      "     ------------ ------------------------- 139.2/434.1 MB 3.9 MB/s eta 0:01:16\n",
      "     ------------ ------------------------- 140.2/434.1 MB 3.9 MB/s eta 0:01:15\n",
      "     ------------ ------------------------- 141.3/434.1 MB 3.9 MB/s eta 0:01:15\n",
      "     ------------ ------------------------- 142.1/434.1 MB 3.9 MB/s eta 0:01:15\n",
      "     ------------ ------------------------- 143.1/434.1 MB 4.0 MB/s eta 0:01:14\n",
      "     ------------ ------------------------- 143.9/434.1 MB 4.0 MB/s eta 0:01:14\n",
      "     ------------ ------------------------- 145.0/434.1 MB 4.0 MB/s eta 0:01:13\n",
      "     ------------ ------------------------- 145.8/434.1 MB 4.0 MB/s eta 0:01:13\n",
      "     ------------ ------------------------- 146.8/434.1 MB 4.0 MB/s eta 0:01:12\n",
      "     ------------ ------------------------- 147.8/434.1 MB 4.0 MB/s eta 0:01:12\n",
      "     ------------- ------------------------ 148.6/434.1 MB 4.0 MB/s eta 0:01:11\n",
      "     ------------- ------------------------ 149.7/434.1 MB 4.0 MB/s eta 0:01:11\n",
      "     ------------- ------------------------ 150.5/434.1 MB 4.1 MB/s eta 0:01:11\n",
      "     ------------- ------------------------ 151.5/434.1 MB 4.1 MB/s eta 0:01:10\n",
      "     ------------- ------------------------ 152.6/434.1 MB 4.1 MB/s eta 0:01:10\n",
      "     ------------- ------------------------ 153.6/434.1 MB 4.1 MB/s eta 0:01:09\n",
      "     ------------- ------------------------ 154.4/434.1 MB 4.1 MB/s eta 0:01:09\n",
      "     ------------- ------------------------ 155.5/434.1 MB 4.1 MB/s eta 0:01:09\n",
      "     ------------- ------------------------ 156.5/434.1 MB 4.1 MB/s eta 0:01:08\n",
      "     ------------- ------------------------ 157.5/434.1 MB 4.1 MB/s eta 0:01:08\n",
      "     ------------- ------------------------ 158.6/434.1 MB 4.1 MB/s eta 0:01:08\n",
      "     ------------- ------------------------ 159.4/434.1 MB 4.1 MB/s eta 0:01:07\n",
      "     -------------- ----------------------- 160.4/434.1 MB 4.1 MB/s eta 0:01:07\n",
      "     -------------- ----------------------- 161.5/434.1 MB 4.1 MB/s eta 0:01:07\n",
      "     -------------- ----------------------- 162.3/434.1 MB 4.1 MB/s eta 0:01:06\n",
      "     -------------- ----------------------- 163.3/434.1 MB 4.1 MB/s eta 0:01:06\n",
      "     -------------- ----------------------- 164.1/434.1 MB 4.1 MB/s eta 0:01:06\n",
      "     -------------- ----------------------- 165.2/434.1 MB 4.1 MB/s eta 0:01:05\n",
      "     -------------- ----------------------- 165.9/434.1 MB 4.1 MB/s eta 0:01:05\n",
      "     -------------- ----------------------- 166.7/434.1 MB 4.1 MB/s eta 0:01:05\n",
      "     -------------- ----------------------- 167.8/434.1 MB 4.1 MB/s eta 0:01:05\n",
      "     -------------- ----------------------- 168.6/434.1 MB 4.1 MB/s eta 0:01:05\n",
      "     -------------- ----------------------- 169.6/434.1 MB 4.2 MB/s eta 0:01:04\n",
      "     -------------- ----------------------- 170.4/434.1 MB 4.2 MB/s eta 0:01:04\n",
      "     --------------- ---------------------- 171.4/434.1 MB 4.2 MB/s eta 0:01:04\n",
      "     --------------- ---------------------- 172.5/434.1 MB 4.2 MB/s eta 0:01:03\n",
      "     --------------- ---------------------- 173.5/434.1 MB 4.2 MB/s eta 0:01:03\n",
      "     --------------- ---------------------- 174.3/434.1 MB 4.2 MB/s eta 0:01:03\n",
      "     --------------- ---------------------- 175.4/434.1 MB 4.2 MB/s eta 0:01:02\n",
      "     --------------- ---------------------- 176.4/434.1 MB 4.2 MB/s eta 0:01:02\n",
      "     --------------- ---------------------- 177.2/434.1 MB 4.2 MB/s eta 0:01:02\n",
      "     --------------- ---------------------- 178.3/434.1 MB 4.2 MB/s eta 0:01:01\n",
      "     --------------- ---------------------- 179.3/434.1 MB 4.2 MB/s eta 0:01:01\n",
      "     --------------- ---------------------- 180.4/434.1 MB 4.2 MB/s eta 0:01:00\n",
      "     --------------- ---------------------- 181.1/434.1 MB 4.2 MB/s eta 0:01:00\n",
      "     --------------- ---------------------- 182.5/434.1 MB 4.2 MB/s eta 0:01:00\n",
      "     ---------------- --------------------- 183.5/434.1 MB 4.3 MB/s eta 0:00:59\n",
      "     ---------------- --------------------- 184.3/434.1 MB 4.3 MB/s eta 0:00:59\n",
      "     ---------------- --------------------- 185.3/434.1 MB 4.3 MB/s eta 0:00:59\n",
      "     ---------------- --------------------- 186.6/434.1 MB 4.3 MB/s eta 0:00:58\n",
      "     ---------------- --------------------- 187.7/434.1 MB 4.3 MB/s eta 0:00:58\n",
      "     ---------------- --------------------- 188.7/434.1 MB 4.3 MB/s eta 0:00:57\n",
      "     ---------------- --------------------- 189.8/434.1 MB 4.3 MB/s eta 0:00:57\n",
      "     ---------------- --------------------- 190.8/434.1 MB 4.3 MB/s eta 0:00:57\n",
      "     ---------------- --------------------- 191.9/434.1 MB 4.3 MB/s eta 0:00:56\n",
      "     ---------------- --------------------- 192.7/434.1 MB 4.3 MB/s eta 0:00:56\n",
      "     ---------------- --------------------- 193.5/434.1 MB 4.3 MB/s eta 0:00:56\n",
      "     ----------------- -------------------- 194.5/434.1 MB 4.3 MB/s eta 0:00:56\n",
      "     ----------------- -------------------- 195.6/434.1 MB 4.4 MB/s eta 0:00:55\n",
      "     ----------------- -------------------- 196.6/434.1 MB 4.4 MB/s eta 0:00:55\n",
      "     ----------------- -------------------- 197.4/434.1 MB 4.4 MB/s eta 0:00:55\n",
      "     ----------------- -------------------- 198.4/434.1 MB 4.4 MB/s eta 0:00:55\n",
      "     ----------------- -------------------- 199.2/434.1 MB 4.4 MB/s eta 0:00:54\n",
      "     ----------------- -------------------- 200.3/434.1 MB 4.4 MB/s eta 0:00:54\n",
      "     ----------------- -------------------- 201.3/434.1 MB 4.4 MB/s eta 0:00:54\n",
      "     ----------------- -------------------- 202.4/434.1 MB 4.4 MB/s eta 0:00:53\n",
      "     ----------------- -------------------- 203.4/434.1 MB 4.4 MB/s eta 0:00:53\n",
      "     ----------------- -------------------- 204.5/434.1 MB 4.4 MB/s eta 0:00:53\n",
      "     ----------------- -------------------- 205.5/434.1 MB 4.4 MB/s eta 0:00:52\n",
      "     ------------------ ------------------- 206.6/434.1 MB 4.4 MB/s eta 0:00:52\n",
      "     ------------------ ------------------- 207.6/434.1 MB 4.4 MB/s eta 0:00:52\n",
      "     ------------------ ------------------- 208.7/434.1 MB 4.4 MB/s eta 0:00:51\n",
      "     ------------------ ------------------- 209.7/434.1 MB 4.4 MB/s eta 0:00:51\n",
      "     ------------------ ------------------- 210.8/434.1 MB 4.4 MB/s eta 0:00:51\n",
      "     ------------------ ------------------- 211.8/434.1 MB 4.4 MB/s eta 0:00:50\n",
      "     ------------------ ------------------- 212.9/434.1 MB 4.5 MB/s eta 0:00:50\n",
      "     ------------------ ------------------- 213.9/434.1 MB 4.5 MB/s eta 0:00:50\n",
      "     ------------------ ------------------- 215.0/434.1 MB 4.5 MB/s eta 0:00:49\n",
      "     ------------------ ------------------- 216.0/434.1 MB 4.5 MB/s eta 0:00:49\n",
      "     ------------------ ------------------- 217.1/434.1 MB 4.5 MB/s eta 0:00:49\n",
      "     ------------------- ------------------ 218.1/434.1 MB 4.5 MB/s eta 0:00:48\n",
      "     ------------------- ------------------ 219.2/434.1 MB 4.5 MB/s eta 0:00:48\n",
      "     ------------------- ------------------ 220.2/434.1 MB 4.5 MB/s eta 0:00:48\n",
      "     ------------------- ------------------ 221.2/434.1 MB 4.5 MB/s eta 0:00:47\n",
      "     ------------------- ------------------ 222.3/434.1 MB 4.5 MB/s eta 0:00:47\n",
      "     ------------------- ------------------ 223.3/434.1 MB 4.5 MB/s eta 0:00:47\n",
      "     ------------------- ------------------ 224.4/434.1 MB 4.5 MB/s eta 0:00:47\n",
      "     ------------------- ------------------ 225.4/434.1 MB 4.6 MB/s eta 0:00:46\n",
      "     ------------------- ------------------ 226.2/434.1 MB 4.6 MB/s eta 0:00:46\n",
      "     ------------------- ------------------ 227.0/434.1 MB 4.6 MB/s eta 0:00:46\n",
      "     ------------------- ------------------ 228.1/434.1 MB 4.6 MB/s eta 0:00:46\n",
      "     ------------------- ------------------ 228.3/434.1 MB 4.6 MB/s eta 0:00:46\n",
      "     -------------------- ----------------- 229.9/434.1 MB 4.6 MB/s eta 0:00:45\n",
      "     -------------------- ----------------- 230.7/434.1 MB 4.6 MB/s eta 0:00:45\n",
      "     -------------------- ----------------- 231.5/434.1 MB 4.6 MB/s eta 0:00:45\n",
      "     -------------------- ----------------- 232.5/434.1 MB 4.6 MB/s eta 0:00:45\n",
      "     -------------------- ----------------- 233.3/434.1 MB 4.6 MB/s eta 0:00:44\n",
      "     -------------------- ----------------- 233.6/434.1 MB 4.6 MB/s eta 0:00:44\n",
      "     -------------------- ----------------- 234.1/434.1 MB 4.6 MB/s eta 0:00:44\n",
      "     -------------------- ----------------- 234.6/434.1 MB 4.5 MB/s eta 0:00:44\n",
      "     -------------------- ----------------- 234.9/434.1 MB 4.6 MB/s eta 0:00:44\n",
      "     -------------------- ----------------- 235.4/434.1 MB 4.5 MB/s eta 0:00:44\n",
      "     -------------------- ----------------- 235.7/434.1 MB 4.5 MB/s eta 0:00:44\n",
      "     -------------------- ----------------- 236.2/434.1 MB 4.5 MB/s eta 0:00:45\n",
      "     -------------------- ----------------- 236.5/434.1 MB 4.5 MB/s eta 0:00:45\n",
      "     -------------------- ----------------- 237.0/434.1 MB 4.5 MB/s eta 0:00:45\n",
      "     -------------------- ----------------- 237.2/434.1 MB 4.5 MB/s eta 0:00:45\n",
      "     -------------------- ----------------- 237.8/434.1 MB 4.4 MB/s eta 0:00:45\n",
      "     -------------------- ----------------- 238.3/434.1 MB 4.4 MB/s eta 0:00:45\n",
      "     -------------------- ----------------- 238.8/434.1 MB 4.4 MB/s eta 0:00:45\n",
      "     -------------------- ----------------- 239.3/434.1 MB 4.4 MB/s eta 0:00:45\n",
      "     -------------------- ----------------- 239.6/434.1 MB 4.4 MB/s eta 0:00:45\n",
      "     --------------------- ---------------- 240.1/434.1 MB 4.4 MB/s eta 0:00:45\n",
      "     --------------------- ---------------- 240.6/434.1 MB 4.4 MB/s eta 0:00:45\n",
      "     --------------------- ---------------- 241.2/434.1 MB 4.4 MB/s eta 0:00:45\n",
      "     --------------------- ---------------- 241.7/434.1 MB 4.3 MB/s eta 0:00:45\n",
      "     --------------------- ---------------- 242.2/434.1 MB 4.3 MB/s eta 0:00:45\n",
      "     --------------------- ---------------- 242.5/434.1 MB 4.3 MB/s eta 0:00:45\n",
      "     --------------------- ---------------- 243.0/434.1 MB 4.3 MB/s eta 0:00:45\n",
      "     --------------------- ---------------- 243.5/434.1 MB 4.3 MB/s eta 0:00:45\n",
      "     --------------------- ---------------- 243.8/434.1 MB 4.3 MB/s eta 0:00:45\n",
      "     --------------------- ---------------- 244.3/434.1 MB 4.2 MB/s eta 0:00:45\n",
      "     --------------------- ---------------- 244.6/434.1 MB 4.2 MB/s eta 0:00:45\n",
      "     --------------------- ---------------- 245.1/434.1 MB 4.2 MB/s eta 0:00:45\n",
      "     --------------------- ---------------- 245.6/434.1 MB 4.2 MB/s eta 0:00:45\n",
      "     --------------------- ---------------- 245.9/434.1 MB 4.2 MB/s eta 0:00:45\n",
      "     --------------------- ---------------- 246.4/434.1 MB 4.2 MB/s eta 0:00:45\n",
      "     --------------------- ---------------- 246.9/434.1 MB 4.2 MB/s eta 0:00:46\n",
      "     --------------------- ---------------- 247.5/434.1 MB 4.1 MB/s eta 0:00:46\n",
      "     --------------------- ---------------- 248.0/434.1 MB 4.1 MB/s eta 0:00:46\n",
      "     --------------------- ---------------- 248.3/434.1 MB 4.1 MB/s eta 0:00:46\n",
      "     --------------------- ---------------- 248.8/434.1 MB 4.1 MB/s eta 0:00:46\n",
      "     --------------------- ---------------- 249.3/434.1 MB 4.1 MB/s eta 0:00:46\n",
      "     --------------------- ---------------- 249.8/434.1 MB 4.1 MB/s eta 0:00:46\n",
      "     --------------------- ---------------- 250.3/434.1 MB 4.0 MB/s eta 0:00:46\n",
      "     --------------------- ---------------- 250.9/434.1 MB 4.0 MB/s eta 0:00:46\n",
      "     --------------------- ---------------- 251.1/434.1 MB 4.0 MB/s eta 0:00:46\n",
      "     ---------------------- --------------- 251.7/434.1 MB 4.0 MB/s eta 0:00:46\n",
      "     ---------------------- --------------- 252.2/434.1 MB 3.9 MB/s eta 0:00:47\n",
      "     ---------------------- --------------- 252.7/434.1 MB 3.9 MB/s eta 0:00:47\n",
      "     ---------------------- --------------- 253.2/434.1 MB 3.9 MB/s eta 0:00:47\n",
      "     ---------------------- --------------- 253.8/434.1 MB 3.9 MB/s eta 0:00:47\n",
      "     ---------------------- --------------- 254.3/434.1 MB 3.9 MB/s eta 0:00:47\n",
      "     ---------------------- --------------- 254.8/434.1 MB 3.9 MB/s eta 0:00:47\n",
      "     ---------------------- --------------- 255.3/434.1 MB 3.8 MB/s eta 0:00:47\n",
      "     ---------------------- --------------- 255.9/434.1 MB 3.8 MB/s eta 0:00:47\n",
      "     ---------------------- --------------- 256.4/434.1 MB 3.8 MB/s eta 0:00:47\n",
      "     ---------------------- --------------- 256.9/434.1 MB 3.8 MB/s eta 0:00:47\n",
      "     ---------------------- --------------- 257.4/434.1 MB 3.8 MB/s eta 0:00:47\n",
      "     ---------------------- --------------- 257.9/434.1 MB 3.8 MB/s eta 0:00:47\n",
      "     ---------------------- --------------- 258.5/434.1 MB 3.8 MB/s eta 0:00:47\n",
      "     ---------------------- --------------- 259.0/434.1 MB 3.7 MB/s eta 0:00:47\n",
      "     ---------------------- --------------- 259.3/434.1 MB 3.7 MB/s eta 0:00:47\n",
      "     ---------------------- --------------- 259.8/434.1 MB 3.7 MB/s eta 0:00:48\n",
      "     ---------------------- --------------- 260.0/434.1 MB 3.7 MB/s eta 0:00:48\n",
      "     ---------------------- --------------- 260.6/434.1 MB 3.7 MB/s eta 0:00:48\n",
      "     ---------------------- --------------- 260.8/434.1 MB 3.6 MB/s eta 0:00:48\n",
      "     ---------------------- --------------- 261.4/434.1 MB 3.6 MB/s eta 0:00:48\n",
      "     ---------------------- --------------- 261.9/434.1 MB 3.6 MB/s eta 0:00:48\n",
      "     ---------------------- --------------- 262.4/434.1 MB 3.6 MB/s eta 0:00:48\n",
      "     ---------------------- --------------- 262.7/434.1 MB 3.6 MB/s eta 0:00:48\n",
      "     ----------------------- -------------- 263.2/434.1 MB 3.6 MB/s eta 0:00:48\n",
      "     ----------------------- -------------- 263.7/434.1 MB 3.5 MB/s eta 0:00:49\n",
      "     ----------------------- -------------- 264.2/434.1 MB 3.5 MB/s eta 0:00:49\n",
      "     ----------------------- -------------- 264.5/434.1 MB 3.5 MB/s eta 0:00:49\n",
      "     ----------------------- -------------- 265.0/434.1 MB 3.5 MB/s eta 0:00:49\n",
      "     ----------------------- -------------- 265.6/434.1 MB 3.5 MB/s eta 0:00:49\n",
      "     ----------------------- -------------- 265.8/434.1 MB 3.5 MB/s eta 0:00:49\n",
      "     ----------------------- -------------- 266.3/434.1 MB 3.4 MB/s eta 0:00:49\n",
      "     ----------------------- -------------- 266.9/434.1 MB 3.4 MB/s eta 0:00:49\n",
      "     ----------------------- -------------- 267.4/434.1 MB 3.4 MB/s eta 0:00:50\n",
      "     ----------------------- -------------- 267.6/434.1 MB 3.4 MB/s eta 0:00:50\n",
      "     ----------------------- -------------- 268.2/434.1 MB 3.4 MB/s eta 0:00:50\n",
      "     ----------------------- -------------- 268.7/434.1 MB 3.4 MB/s eta 0:00:50\n",
      "     ----------------------- -------------- 269.0/434.1 MB 3.4 MB/s eta 0:00:50\n",
      "     ----------------------- -------------- 269.5/434.1 MB 3.3 MB/s eta 0:00:50\n",
      "     ----------------------- -------------- 270.0/434.1 MB 3.3 MB/s eta 0:00:50\n",
      "     ----------------------- -------------- 270.3/434.1 MB 3.3 MB/s eta 0:00:50\n",
      "     ----------------------- -------------- 270.8/434.1 MB 3.3 MB/s eta 0:00:50\n",
      "     ----------------------- -------------- 271.3/434.1 MB 3.3 MB/s eta 0:00:51\n",
      "     ----------------------- -------------- 271.8/434.1 MB 3.2 MB/s eta 0:00:51\n",
      "     ----------------------- -------------- 272.1/434.1 MB 3.2 MB/s eta 0:00:51\n",
      "     ----------------------- -------------- 272.6/434.1 MB 3.2 MB/s eta 0:00:51\n",
      "     ----------------------- -------------- 273.2/434.1 MB 3.2 MB/s eta 0:00:51\n",
      "     ----------------------- -------------- 273.7/434.1 MB 3.2 MB/s eta 0:00:51\n",
      "     ------------------------ ------------- 274.2/434.1 MB 3.2 MB/s eta 0:00:51\n",
      "     ------------------------ ------------- 274.5/434.1 MB 3.1 MB/s eta 0:00:51\n",
      "     ------------------------ ------------- 275.0/434.1 MB 3.1 MB/s eta 0:00:51\n",
      "     ------------------------ ------------- 275.5/434.1 MB 3.1 MB/s eta 0:00:52\n",
      "     ------------------------ ------------- 276.0/434.1 MB 3.1 MB/s eta 0:00:52\n",
      "     ------------------------ ------------- 276.6/434.1 MB 3.1 MB/s eta 0:00:52\n",
      "     ------------------------ ------------- 277.1/434.1 MB 3.0 MB/s eta 0:00:52\n",
      "     ------------------------ ------------- 277.6/434.1 MB 3.0 MB/s eta 0:00:52\n",
      "     ------------------------ ------------- 278.1/434.1 MB 3.0 MB/s eta 0:00:52\n",
      "     ------------------------ ------------- 278.9/434.1 MB 3.0 MB/s eta 0:00:52\n",
      "     ------------------------ ------------- 279.4/434.1 MB 3.0 MB/s eta 0:00:52\n",
      "     ------------------------ ------------- 280.0/434.1 MB 3.0 MB/s eta 0:00:52\n",
      "     ------------------------ ------------- 280.5/434.1 MB 3.0 MB/s eta 0:00:52\n",
      "     ------------------------ ------------- 281.3/434.1 MB 2.9 MB/s eta 0:00:52\n",
      "     ------------------------ ------------- 281.8/434.1 MB 2.9 MB/s eta 0:00:52\n",
      "     ------------------------ ------------- 282.3/434.1 MB 2.9 MB/s eta 0:00:52\n",
      "     ------------------------ ------------- 283.1/434.1 MB 2.9 MB/s eta 0:00:52\n",
      "     ------------------------ ------------- 283.6/434.1 MB 2.9 MB/s eta 0:00:52\n",
      "     ------------------------ ------------- 284.4/434.1 MB 2.9 MB/s eta 0:00:52\n",
      "     ------------------------ ------------- 285.2/434.1 MB 2.9 MB/s eta 0:00:52\n",
      "     ------------------------- ------------ 285.7/434.1 MB 2.9 MB/s eta 0:00:52\n",
      "     ------------------------- ------------ 286.5/434.1 MB 2.9 MB/s eta 0:00:52\n",
      "     ------------------------- ------------ 287.0/434.1 MB 2.9 MB/s eta 0:00:52\n",
      "     ------------------------- ------------ 288.1/434.1 MB 2.8 MB/s eta 0:00:52\n",
      "     ------------------------- ------------ 288.9/434.1 MB 2.8 MB/s eta 0:00:52\n",
      "     ------------------------- ------------ 289.7/434.1 MB 2.8 MB/s eta 0:00:52\n",
      "     ------------------------- ------------ 290.5/434.1 MB 2.8 MB/s eta 0:00:52\n",
      "     ------------------------- ------------ 291.2/434.1 MB 2.8 MB/s eta 0:00:51\n",
      "     ------------------------- ------------ 292.3/434.1 MB 2.8 MB/s eta 0:00:51\n",
      "     ------------------------- ------------ 293.3/434.1 MB 2.8 MB/s eta 0:00:51\n",
      "     ------------------------- ------------ 294.1/434.1 MB 2.8 MB/s eta 0:00:50\n",
      "     ------------------------- ------------ 295.2/434.1 MB 2.8 MB/s eta 0:00:50\n",
      "     ------------------------- ------------ 296.2/434.1 MB 2.8 MB/s eta 0:00:50\n",
      "     -------------------------- ----------- 297.3/434.1 MB 2.8 MB/s eta 0:00:49\n",
      "     -------------------------- ----------- 297.8/434.1 MB 2.8 MB/s eta 0:00:49\n",
      "     -------------------------- ----------- 298.8/434.1 MB 2.8 MB/s eta 0:00:49\n",
      "     -------------------------- ----------- 299.6/434.1 MB 2.8 MB/s eta 0:00:49\n",
      "     -------------------------- ----------- 300.4/434.1 MB 2.8 MB/s eta 0:00:49\n",
      "     -------------------------- ----------- 301.5/434.1 MB 2.8 MB/s eta 0:00:49\n",
      "     -------------------------- ----------- 302.3/434.1 MB 2.8 MB/s eta 0:00:48\n",
      "     -------------------------- ----------- 303.0/434.1 MB 2.7 MB/s eta 0:00:48\n",
      "     -------------------------- ----------- 303.8/434.1 MB 2.7 MB/s eta 0:00:48\n",
      "     -------------------------- ----------- 304.6/434.1 MB 2.7 MB/s eta 0:00:48\n",
      "     -------------------------- ----------- 305.4/434.1 MB 2.7 MB/s eta 0:00:48\n",
      "     -------------------------- ----------- 306.4/434.1 MB 2.7 MB/s eta 0:00:47\n",
      "     -------------------------- ----------- 307.2/434.1 MB 2.7 MB/s eta 0:00:47\n",
      "     -------------------------- ----------- 308.0/434.1 MB 2.7 MB/s eta 0:00:47\n",
      "     --------------------------- ---------- 308.8/434.1 MB 2.7 MB/s eta 0:00:47\n",
      "     --------------------------- ---------- 309.9/434.1 MB 2.7 MB/s eta 0:00:46\n",
      "     --------------------------- ---------- 310.6/434.1 MB 2.7 MB/s eta 0:00:46\n",
      "     --------------------------- ---------- 311.4/434.1 MB 2.7 MB/s eta 0:00:46\n",
      "     --------------------------- ---------- 312.2/434.1 MB 2.7 MB/s eta 0:00:46\n",
      "     --------------------------- ---------- 313.0/434.1 MB 2.7 MB/s eta 0:00:45\n",
      "     --------------------------- ---------- 314.0/434.1 MB 2.7 MB/s eta 0:00:45\n",
      "     --------------------------- ---------- 314.8/434.1 MB 2.7 MB/s eta 0:00:44\n",
      "     --------------------------- ---------- 315.6/434.1 MB 2.7 MB/s eta 0:00:44\n",
      "     --------------------------- ---------- 316.4/434.1 MB 2.7 MB/s eta 0:00:44\n",
      "     --------------------------- ---------- 317.5/434.1 MB 2.8 MB/s eta 0:00:43\n",
      "     --------------------------- ---------- 318.2/434.1 MB 2.8 MB/s eta 0:00:42\n",
      "     --------------------------- ---------- 319.0/434.1 MB 2.8 MB/s eta 0:00:42\n",
      "     --------------------------- ---------- 319.8/434.1 MB 2.8 MB/s eta 0:00:41\n",
      "     ---------------------------- --------- 320.9/434.1 MB 2.8 MB/s eta 0:00:41\n",
      "     ---------------------------- --------- 321.7/434.1 MB 2.8 MB/s eta 0:00:40\n",
      "     ---------------------------- --------- 322.4/434.1 MB 2.8 MB/s eta 0:00:40\n",
      "     ---------------------------- --------- 323.2/434.1 MB 2.8 MB/s eta 0:00:39\n",
      "     ---------------------------- --------- 324.0/434.1 MB 2.9 MB/s eta 0:00:39\n",
      "     ---------------------------- --------- 324.8/434.1 MB 2.9 MB/s eta 0:00:39\n",
      "     ---------------------------- --------- 325.6/434.1 MB 2.9 MB/s eta 0:00:38\n",
      "     ---------------------------- --------- 326.4/434.1 MB 2.9 MB/s eta 0:00:38\n",
      "     ---------------------------- --------- 327.2/434.1 MB 2.9 MB/s eta 0:00:37\n",
      "     ---------------------------- --------- 327.9/434.1 MB 2.9 MB/s eta 0:00:37\n",
      "     ---------------------------- --------- 329.0/434.1 MB 2.9 MB/s eta 0:00:36\n",
      "     ---------------------------- --------- 329.8/434.1 MB 2.9 MB/s eta 0:00:36\n",
      "     ---------------------------- --------- 330.6/434.1 MB 2.9 MB/s eta 0:00:36\n",
      "     ----------------------------- -------- 331.4/434.1 MB 3.0 MB/s eta 0:00:35\n",
      "     ----------------------------- -------- 332.1/434.1 MB 3.0 MB/s eta 0:00:35\n",
      "     ----------------------------- -------- 333.2/434.1 MB 3.0 MB/s eta 0:00:34\n",
      "     ----------------------------- -------- 334.0/434.1 MB 3.0 MB/s eta 0:00:34\n",
      "     ----------------------------- -------- 334.8/434.1 MB 3.0 MB/s eta 0:00:33\n",
      "     ----------------------------- -------- 335.8/434.1 MB 3.0 MB/s eta 0:00:33\n",
      "     ----------------------------- -------- 336.6/434.1 MB 3.1 MB/s eta 0:00:32\n",
      "     ----------------------------- -------- 337.6/434.1 MB 3.1 MB/s eta 0:00:32\n",
      "     ----------------------------- -------- 338.4/434.1 MB 3.1 MB/s eta 0:00:32\n",
      "     ----------------------------- -------- 339.5/434.1 MB 3.1 MB/s eta 0:00:31\n",
      "     ----------------------------- -------- 340.3/434.1 MB 3.1 MB/s eta 0:00:31\n",
      "     ----------------------------- -------- 341.3/434.1 MB 3.1 MB/s eta 0:00:30\n",
      "     ----------------------------- -------- 342.1/434.1 MB 3.1 MB/s eta 0:00:30\n",
      "     ------------------------------ ------- 343.1/434.1 MB 3.2 MB/s eta 0:00:29\n",
      "     ------------------------------ ------- 344.2/434.1 MB 3.2 MB/s eta 0:00:29\n",
      "     ------------------------------ ------- 345.2/434.1 MB 3.2 MB/s eta 0:00:28\n",
      "     ------------------------------ ------- 346.0/434.1 MB 3.2 MB/s eta 0:00:28\n",
      "     ------------------------------ ------- 347.1/434.1 MB 3.2 MB/s eta 0:00:27\n",
      "     ------------------------------ ------- 348.1/434.1 MB 3.2 MB/s eta 0:00:27\n",
      "     ------------------------------ ------- 349.2/434.1 MB 3.3 MB/s eta 0:00:27\n",
      "     ------------------------------ ------- 350.2/434.1 MB 3.3 MB/s eta 0:00:26\n",
      "     ------------------------------ ------- 351.3/434.1 MB 3.3 MB/s eta 0:00:26\n",
      "     ------------------------------ ------- 352.3/434.1 MB 3.3 MB/s eta 0:00:25\n",
      "     ------------------------------ ------- 353.6/434.1 MB 3.3 MB/s eta 0:00:25\n",
      "     ------------------------------- ------ 354.9/434.1 MB 3.4 MB/s eta 0:00:24\n",
      "     ------------------------------- ------ 356.0/434.1 MB 3.4 MB/s eta 0:00:24\n",
      "     ------------------------------- ------ 357.3/434.1 MB 3.4 MB/s eta 0:00:23\n",
      "     ------------------------------- ------ 358.6/434.1 MB 3.5 MB/s eta 0:00:22\n",
      "     ------------------------------- ------ 359.9/434.1 MB 3.5 MB/s eta 0:00:22\n",
      "     ------------------------------- ------ 361.2/434.1 MB 3.5 MB/s eta 0:00:21\n",
      "     ------------------------------- ------ 362.3/434.1 MB 3.5 MB/s eta 0:00:21\n",
      "     ------------------------------- ------ 363.6/434.1 MB 3.5 MB/s eta 0:00:20\n",
      "     ------------------------------- ------ 364.6/434.1 MB 3.6 MB/s eta 0:00:20\n",
      "     -------------------------------- ----- 365.7/434.1 MB 3.6 MB/s eta 0:00:20\n",
      "     -------------------------------- ----- 366.7/434.1 MB 3.6 MB/s eta 0:00:19\n",
      "     -------------------------------- ----- 368.1/434.1 MB 3.6 MB/s eta 0:00:19\n",
      "     -------------------------------- ----- 369.4/434.1 MB 3.7 MB/s eta 0:00:18\n",
      "     -------------------------------- ----- 370.4/434.1 MB 3.7 MB/s eta 0:00:18\n",
      "     -------------------------------- ----- 371.7/434.1 MB 3.7 MB/s eta 0:00:17\n",
      "     -------------------------------- ----- 373.0/434.1 MB 3.7 MB/s eta 0:00:17\n",
      "     -------------------------------- ----- 373.8/434.1 MB 3.8 MB/s eta 0:00:17\n",
      "     -------------------------------- ----- 375.1/434.1 MB 3.8 MB/s eta 0:00:16\n",
      "     -------------------------------- ----- 376.4/434.1 MB 3.8 MB/s eta 0:00:16\n",
      "     --------------------------------- ---- 377.7/434.1 MB 3.8 MB/s eta 0:00:15\n",
      "     --------------------------------- ---- 378.8/434.1 MB 3.9 MB/s eta 0:00:15\n",
      "     --------------------------------- ---- 380.1/434.1 MB 3.9 MB/s eta 0:00:14\n",
      "     --------------------------------- ---- 381.2/434.1 MB 3.9 MB/s eta 0:00:14\n",
      "     --------------------------------- ---- 382.5/434.1 MB 3.9 MB/s eta 0:00:14\n",
      "     --------------------------------- ---- 383.5/434.1 MB 4.0 MB/s eta 0:00:13\n",
      "     --------------------------------- ---- 384.8/434.1 MB 4.0 MB/s eta 0:00:13\n",
      "     --------------------------------- ---- 386.1/434.1 MB 4.0 MB/s eta 0:00:12\n",
      "     --------------------------------- ---- 387.2/434.1 MB 4.0 MB/s eta 0:00:12\n",
      "     ---------------------------------- --- 388.5/434.1 MB 4.1 MB/s eta 0:00:12\n",
      "     ---------------------------------- --- 389.5/434.1 MB 4.1 MB/s eta 0:00:11\n",
      "     ---------------------------------- --- 390.6/434.1 MB 4.1 MB/s eta 0:00:11\n",
      "     ---------------------------------- --- 391.9/434.1 MB 4.1 MB/s eta 0:00:11\n",
      "     ---------------------------------- --- 393.0/434.1 MB 4.2 MB/s eta 0:00:10\n",
      "     ---------------------------------- --- 394.3/434.1 MB 4.2 MB/s eta 0:00:10\n",
      "     ---------------------------------- --- 395.3/434.1 MB 4.2 MB/s eta 0:00:10\n",
      "     ---------------------------------- --- 396.9/434.1 MB 4.2 MB/s eta 0:00:09\n",
      "     ---------------------------------- --- 397.9/434.1 MB 4.3 MB/s eta 0:00:09\n",
      "     ---------------------------------- --- 399.2/434.1 MB 4.3 MB/s eta 0:00:09\n",
      "     ----------------------------------- -- 400.3/434.1 MB 4.3 MB/s eta 0:00:08\n",
      "     ----------------------------------- -- 401.3/434.1 MB 4.3 MB/s eta 0:00:08\n",
      "     ----------------------------------- -- 402.9/434.1 MB 4.4 MB/s eta 0:00:08\n",
      "     ----------------------------------- -- 404.0/434.1 MB 4.4 MB/s eta 0:00:07\n",
      "     ----------------------------------- -- 405.0/434.1 MB 4.4 MB/s eta 0:00:07\n",
      "     ----------------------------------- -- 406.3/434.1 MB 4.4 MB/s eta 0:00:07\n",
      "     ----------------------------------- -- 407.6/434.1 MB 4.5 MB/s eta 0:00:06\n",
      "     ----------------------------------- -- 408.4/434.1 MB 4.5 MB/s eta 0:00:06\n",
      "     ----------------------------------- -- 409.7/434.1 MB 4.5 MB/s eta 0:00:06\n",
      "     ----------------------------------- -- 411.0/434.1 MB 4.5 MB/s eta 0:00:06\n",
      "     ------------------------------------ - 412.4/434.1 MB 4.6 MB/s eta 0:00:05\n",
      "     ------------------------------------ - 413.7/434.1 MB 4.6 MB/s eta 0:00:05\n",
      "     ------------------------------------ - 414.7/434.1 MB 4.6 MB/s eta 0:00:05\n",
      "     ------------------------------------ - 416.0/434.1 MB 4.6 MB/s eta 0:00:04\n",
      "     ------------------------------------ - 417.3/434.1 MB 4.6 MB/s eta 0:00:04\n",
      "     ------------------------------------ - 418.4/434.1 MB 4.7 MB/s eta 0:00:04\n",
      "     ------------------------------------ - 419.7/434.1 MB 4.7 MB/s eta 0:00:04\n",
      "     ------------------------------------ - 420.7/434.1 MB 4.7 MB/s eta 0:00:03\n",
      "     ------------------------------------ - 422.1/434.1 MB 4.7 MB/s eta 0:00:03\n",
      "     -------------------------------------  423.4/434.1 MB 4.7 MB/s eta 0:00:03\n",
      "     -------------------------------------  424.7/434.1 MB 4.8 MB/s eta 0:00:02\n",
      "     -------------------------------------  426.0/434.1 MB 4.8 MB/s eta 0:00:02\n",
      "     -------------------------------------  426.5/434.1 MB 4.8 MB/s eta 0:00:02\n",
      "     -------------------------------------  427.8/434.1 MB 4.8 MB/s eta 0:00:02\n",
      "     -------------------------------------  428.9/434.1 MB 4.8 MB/s eta 0:00:02\n",
      "     -------------------------------------  430.2/434.1 MB 4.8 MB/s eta 0:00:01\n",
      "     -------------------------------------  431.5/434.1 MB 4.9 MB/s eta 0:00:01\n",
      "     -------------------------------------  432.5/434.1 MB 4.9 MB/s eta 0:00:01\n",
      "     -------------------------------------  433.8/434.1 MB 4.9 MB/s eta 0:00:01\n",
      "     -------------------------------------  434.1/434.1 MB 4.9 MB/s eta 0:00:01\n",
      "     -------------------------------------  434.1/434.1 MB 4.9 MB/s eta 0:00:01\n",
      "     -------------------------------------  434.1/434.1 MB 4.9 MB/s eta 0:00:01\n",
      "     -------------------------------------  434.1/434.1 MB 4.9 MB/s eta 0:00:01\n",
      "     -------------------------------------  434.1/434.1 MB 4.9 MB/s eta 0:00:01\n",
      "     -------------------------------------  434.1/434.1 MB 4.9 MB/s eta 0:00:01\n",
      "     -------------------------------------  434.1/434.1 MB 4.9 MB/s eta 0:00:01\n",
      "     -------------------------------------  434.1/434.1 MB 4.9 MB/s eta 0:00:01\n",
      "     -------------------------------------  434.1/434.1 MB 4.9 MB/s eta 0:00:01\n",
      "     -------------------------------------  434.1/434.1 MB 4.9 MB/s eta 0:00:01\n",
      "     -------------------------------------  434.1/434.1 MB 4.9 MB/s eta 0:00:01\n",
      "     -------------------------------------  434.1/434.1 MB 4.9 MB/s eta 0:00:01\n",
      "     -------------------------------------  434.1/434.1 MB 4.9 MB/s eta 0:00:01\n",
      "     -------------------------------------- 434.1/434.1 MB 4.5 MB/s eta 0:00:00\n",
      "  Preparing metadata (setup.py): started\n",
      "  Preparing metadata (setup.py): finished with status 'done'\n",
      "Collecting py4j==0.10.9.9 (from pyspark)\n",
      "  Downloading py4j-0.10.9.9-py2.py3-none-any.whl.metadata (1.3 kB)\n",
      "Downloading py4j-0.10.9.9-py2.py3-none-any.whl (203 kB)\n",
      "Building wheels for collected packages: pyspark\n",
      "  Building wheel for pyspark (setup.py): started\n",
      "  Building wheel for pyspark (setup.py): still running...\n",
      "  Building wheel for pyspark (setup.py): still running...\n",
      "  Building wheel for pyspark (setup.py): still running...\n",
      "  Building wheel for pyspark (setup.py): finished with status 'done'\n",
      "  Created wheel for pyspark: filename=pyspark-4.0.0-py2.py3-none-any.whl size=434741273 sha256=1f6135f37ed081e5f41cb8f40ada4fa4714f68badd4be6679f27c391ffb7f903\n",
      "  Stored in directory: c:\\users\\dell\\appdata\\local\\pip\\cache\\wheels\\2d\\77\\9b\\12660be70f7f447940a0caede37ae208b2e0d1c8487dce52a6\n",
      "Successfully built pyspark\n",
      "Installing collected packages: py4j, pyspark\n",
      "Successfully installed py4j-0.10.9.9 pyspark-4.0.0\n"
     ]
    }
   ],
   "source": [
    "!pip install pyspark"
   ]
  },
  {
   "cell_type": "code",
   "execution_count": 81,
   "id": "10743834-903d-4e00-a83e-3adb799c3847",
   "metadata": {},
   "outputs": [
    {
     "name": "stdout",
     "output_type": "stream",
     "text": [
      "Requirement already satisfied: seaborn in c:\\users\\dell\\anaconda3\\lib\\site-packages (0.13.2)\n",
      "Requirement already satisfied: numpy!=1.24.0,>=1.20 in c:\\users\\dell\\anaconda3\\lib\\site-packages (from seaborn) (1.26.4)\n",
      "Requirement already satisfied: pandas>=1.2 in c:\\users\\dell\\anaconda3\\lib\\site-packages (from seaborn) (2.2.2)\n",
      "Requirement already satisfied: matplotlib!=3.6.1,>=3.4 in c:\\users\\dell\\anaconda3\\lib\\site-packages (from seaborn) (3.9.2)\n",
      "Requirement already satisfied: contourpy>=1.0.1 in c:\\users\\dell\\anaconda3\\lib\\site-packages (from matplotlib!=3.6.1,>=3.4->seaborn) (1.2.0)\n",
      "Requirement already satisfied: cycler>=0.10 in c:\\users\\dell\\anaconda3\\lib\\site-packages (from matplotlib!=3.6.1,>=3.4->seaborn) (0.11.0)\n",
      "Requirement already satisfied: fonttools>=4.22.0 in c:\\users\\dell\\anaconda3\\lib\\site-packages (from matplotlib!=3.6.1,>=3.4->seaborn) (4.51.0)\n",
      "Requirement already satisfied: kiwisolver>=1.3.1 in c:\\users\\dell\\anaconda3\\lib\\site-packages (from matplotlib!=3.6.1,>=3.4->seaborn) (1.4.4)\n",
      "Requirement already satisfied: packaging>=20.0 in c:\\users\\dell\\anaconda3\\lib\\site-packages (from matplotlib!=3.6.1,>=3.4->seaborn) (24.1)\n",
      "Requirement already satisfied: pillow>=8 in c:\\users\\dell\\anaconda3\\lib\\site-packages (from matplotlib!=3.6.1,>=3.4->seaborn) (10.4.0)\n",
      "Requirement already satisfied: pyparsing>=2.3.1 in c:\\users\\dell\\anaconda3\\lib\\site-packages (from matplotlib!=3.6.1,>=3.4->seaborn) (3.1.2)\n",
      "Requirement already satisfied: python-dateutil>=2.7 in c:\\users\\dell\\anaconda3\\lib\\site-packages (from matplotlib!=3.6.1,>=3.4->seaborn) (2.9.0.post0)\n",
      "Requirement already satisfied: pytz>=2020.1 in c:\\users\\dell\\anaconda3\\lib\\site-packages (from pandas>=1.2->seaborn) (2024.1)\n",
      "Requirement already satisfied: tzdata>=2022.7 in c:\\users\\dell\\anaconda3\\lib\\site-packages (from pandas>=1.2->seaborn) (2023.3)\n",
      "Requirement already satisfied: six>=1.5 in c:\\users\\dell\\anaconda3\\lib\\site-packages (from python-dateutil>=2.7->matplotlib!=3.6.1,>=3.4->seaborn) (1.16.0)\n",
      "Note: you may need to restart the kernel to use updated packages.\n"
     ]
    }
   ],
   "source": [
    "pip install seaborn"
   ]
  },
  {
   "cell_type": "code",
   "execution_count": 82,
   "id": "a1d20f6f-45bb-4fe8-a17c-6787ab1fa521",
   "metadata": {},
   "outputs": [
    {
     "name": "stdout",
     "output_type": "stream",
     "text": [
      "Requirement already satisfied: scikit-learn in c:\\users\\dell\\anaconda3\\lib\\site-packages (1.5.1)\n",
      "Requirement already satisfied: numpy>=1.19.5 in c:\\users\\dell\\anaconda3\\lib\\site-packages (from scikit-learn) (1.26.4)\n",
      "Requirement already satisfied: scipy>=1.6.0 in c:\\users\\dell\\anaconda3\\lib\\site-packages (from scikit-learn) (1.13.1)\n",
      "Requirement already satisfied: joblib>=1.2.0 in c:\\users\\dell\\anaconda3\\lib\\site-packages (from scikit-learn) (1.4.2)\n",
      "Requirement already satisfied: threadpoolctl>=3.1.0 in c:\\users\\dell\\anaconda3\\lib\\site-packages (from scikit-learn) (3.5.0)\n"
     ]
    }
   ],
   "source": [
    "!pip install scikit-learn"
   ]
  },
  {
   "cell_type": "code",
   "execution_count": null,
   "id": "15b934f4-8790-408f-96eb-2c4dabc9090a",
   "metadata": {},
   "outputs": [],
   "source": []
  }
 ],
 "metadata": {
  "kernelspec": {
   "display_name": "Python [conda env:base] *",
   "language": "python",
   "name": "conda-base-py"
  },
  "language_info": {
   "codemirror_mode": {
    "name": "ipython",
    "version": 3
   },
   "file_extension": ".py",
   "mimetype": "text/x-python",
   "name": "python",
   "nbconvert_exporter": "python",
   "pygments_lexer": "ipython3",
   "version": "3.12.7"
  }
 },
 "nbformat": 4,
 "nbformat_minor": 5
}
