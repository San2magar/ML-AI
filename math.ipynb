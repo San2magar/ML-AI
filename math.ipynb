{
 "cells": [
  {
   "cell_type": "markdown",
   "id": "605594ea",
   "metadata": {},
   "source": [
    "# 1 . find all pythagorean triplets upto N\n",
    "### wap to find all sets of integers (a, b, c) such that:\n",
    "\n",
    "### [a^2 + b^2 = c^2 ] \n",
    "#### and (a, b ,c <= N) ."
   ]
  },
  {
   "cell_type": "code",
   "execution_count": 9,
   "id": "10bdb827",
   "metadata": {},
   "outputs": [
    {
     "name": "stdout",
     "output_type": "stream",
     "text": [
      "Pythagorean triplets up to 20\n",
      "(3, 4, 5)\n",
      "(6, 8, 10)\n",
      "(5, 12, 13)\n",
      "(9, 12, 15)\n",
      "(8, 15, 17)\n",
      "(12, 16, 20)\n"
     ]
    }
   ],
   "source": [
    "def find_pythagorean_triplets(n):\n",
    "    triplets=[]\n",
    "    for c in range(1,n+1):\n",
    "        for b in range(1,c):\n",
    "            for a in range(1,b):\n",
    "                if a * a + b *b == c*c:\n",
    "                    triplets.append((a, b, c))\n",
    "\n",
    "    return triplets\n",
    "\n",
    "# N = int(input(\"Enter the value of N : \"))\n",
    "N = 20\n",
    "triplets = find_pythagorean_triplets(N)\n",
    "print(f'Pythagorean triplets up to {N}')     \n",
    "for t in triplets:\n",
    "    print(t)   \n"
   ]
  },
  {
   "cell_type": "markdown",
   "id": "7c87f815",
   "metadata": {},
   "source": [
    "# 2. Compute combination ( C(n,k)) without using built-in functions\n",
    "### Calculate the binomial coefficient:\n",
    "### efficiency without using Python's built-in functions."
   ]
  },
  {
   "cell_type": "markdown",
   "id": "1da736b0",
   "metadata": {},
   "source": []
  },
  {
   "cell_type": "code",
   "execution_count": null,
   "id": "7366918c",
   "metadata": {},
   "outputs": [
    {
     "name": "stdout",
     "output_type": "stream",
     "text": [
      "C(10, 3)= 120\n"
     ]
    }
   ],
   "source": [
    "def factorial(num):\n",
    "    '''\n",
    "    Compute factorial of a number num.\n",
    "    factorial of num is the product of all positive integers up to num.\n",
    "    for eg. 5! = 5 * 4 * 3 * 2 * 1 = 120\n",
    "    '''\n",
    "    result = 1\n",
    "    for i in range(2, num + 1):\n",
    "        result *= i\n",
    "    return result\n",
    "\n",
    "def nCr(n,k):\n",
    "    ''' \n",
    "    compute arithmetic C(n,k) = n! / ( k! * (n - k)!)\n",
    "    which represents the number of the ways to choose k items from n items without repetition.\n",
    "    '''\n",
    "\n",
    "    if k > n:\n",
    "        return 0 # combination not defined if k > n\n",
    "    \n",
    "    #calc factorial of n, k and (n-k)\n",
    "    fact_n = factorial(n)\n",
    "    fact_k = factorial(k)\n",
    "    fact_n_k = factorial(n - k)\n",
    "\n",
    "    # use the formula to compute the combination value\n",
    "    combination = fact_n // (fact_k * fact_n_k)\n",
    "    return combination\n",
    "\n",
    "# Example usage:\n",
    "n,k =10,3\n",
    "print(f'C({n}, {k})= {nCr(n,k)}')"
   ]
  },
  {
   "cell_type": "markdown",
   "id": "1d46b33c",
   "metadata": {},
   "source": [
    "# 3. Solve quadratic equations\n",
    "### Write a program to find the roots of the quadratic equations:\n",
    "### [ ax^2 + bx + c = 0]\n",
    "### including both real and imaginary"
   ]
  },
  {
   "cell_type": "code",
   "execution_count": null,
   "id": "0e851fc0",
   "metadata": {},
   "outputs": [],
   "source": [
    "import math\n",
    "\n",
    "def first_quadratic(a,b,c):\n",
    "\n",
    "# calculate the discriminant ( b^2 - 4ac)\n",
    "\n",
    "    discriminant = b**2 - 4*a*c\n",
    "\n",
    "\n",
    "    root1 = (-b + math.sqrt(discriminant)) / (2 * a)\n",
    "    root2 = (-b - math.sqrt(discriminant)) / (2 * a)\n",
    "\n",
    "    return root1, root2\n",
    "\n",
    "a = int(input(\"enter the value for a : \"))\n",
    "b = int(input(\"enter the value for b : \"))\n",
    "c = int(input(\"enter the value for c : \"))\n",
    "\n",
    "root1, root2 = "
   ]
  },
  {
   "cell_type": "markdown",
   "id": "6b6bc6a1",
   "metadata": {},
   "source": [
    "### bisection "
   ]
  },
  {
   "cell_type": "code",
   "execution_count": 14,
   "id": "f1590a06",
   "metadata": {},
   "outputs": [
    {
     "name": "stdout",
     "output_type": "stream",
     "text": [
      "Iter|         a|         b|   x=(a+b/2)|        f(a)|        f(b)|  next\n",
      "----------------------------------------------------------------------------------------------\n",
      "   1|  1.000000|    1.500000|0.000000e+00|0.000000e+00|-2.500000e-01|   b=x\n",
      "   2|  1.000000|    1.250000|0.000000e+00|-2.500000e-01|-1.875000e-01|   b=x\n",
      "   3|  1.000000|    1.125000|0.000000e+00|-1.875000e-01|-1.093750e-01|   b=x\n",
      "   4|  1.000000|    1.062500|0.000000e+00|-1.093750e-01|-5.859375e-02|   b=x\n",
      "   5|  1.000000|    1.031250|0.000000e+00|-5.859375e-02|-3.027344e-02|   b=x\n",
      "   6|  1.000000|    1.015625|0.000000e+00|-3.027344e-02|-1.538086e-02|   b=x\n",
      "   7|  1.000000|    1.007812|0.000000e+00|-1.538086e-02|-7.751465e-03|   b=x\n",
      "   8|  1.000000|    1.003906|0.000000e+00|-7.751465e-03|-3.890991e-03|   b=x\n",
      "   9|  1.000000|    1.001953|0.000000e+00|-3.890991e-03|-1.949310e-03|   b=x\n",
      "  10|  1.000000|    1.000977|0.000000e+00|-1.949310e-03|-9.756088e-04|   b=x\n",
      "  11|  1.000000|    1.000488|0.000000e+00|-9.756088e-04|-4.880428e-04|   b=x\n",
      "  12|  1.000000|    1.000244|0.000000e+00|-4.880428e-04|-2.440810e-04|   b=x\n",
      "  13|  1.000000|    1.000122|0.000000e+00|-2.440810e-04|-1.220554e-04|   b=x\n",
      "  14|  1.000000|    1.000061|0.000000e+00|-1.220554e-04|-6.103143e-05|   b=x\n",
      "  15|  1.000000|    1.000031|0.000000e+00|-6.103143e-05|-3.051665e-05|   b=x\n",
      "  16|  1.000000|    1.000015|0.000000e+00|-3.051665e-05|-1.525856e-05|   b=x\n",
      "  17|  1.000000|    1.000008|0.000000e+00|-1.525856e-05|-7.629336e-06|   b=x\n",
      "  18|  1.000000|    1.000004|0.000000e+00|-7.629336e-06|-3.814683e-06|   b=x\n",
      "  19|  1.000000|    1.000002|0.000000e+00|-3.814683e-06|-1.907345e-06|   b=x\n",
      "  20|  1.000000|    1.000001|0.000000e+00|-1.907345e-06|-9.536734e-07|   b=x\n",
      "something is converged\n"
     ]
    }
   ],
   "source": [
    "def f(x):\n",
    "    return x**2 - 3*x + 2 \n",
    "\n",
    "def g(a, b, tol=1e-6,max_iteration=100):\n",
    "    print(f'{\"Iter\":>4}|{\"a\":>10}|{\"b\":>10}|{\"x=(a+b/2)\":>12}|{\"f(a)\":>12}|{\"f(b)\":>12}|{\"next\":>6}')\n",
    "    print(\"-\" *94)\n",
    "    for i in range(1, max_iteration+1):\n",
    "        x = (a+b)/2\n",
    "        fx = f(x)\n",
    "        fa = f(a)\n",
    "        fb = f(b)\n",
    "        if fx>0:\n",
    "            decision=\"a=x\"\n",
    "            a=x\n",
    "        else:\n",
    "            decision=\"b=x\"\n",
    "            b=x\n",
    "\n",
    "        print(f\"{i:>4}|{a:>10.6f}|{b:>12.6f}|{fa:>12.6e}|{fb:>12.6e}|{fx:>12.6e}|{decision:>6}\")\n",
    "        if abs(fx)<tol or abs(b-a)<tol:\n",
    "            print(\"something is converged\")\n",
    "            break\n",
    "g(1,2)        "
   ]
  }
 ],
 "metadata": {
  "kernelspec": {
   "display_name": "base",
   "language": "python",
   "name": "python3"
  },
  "language_info": {
   "codemirror_mode": {
    "name": "ipython",
    "version": 3
   },
   "file_extension": ".py",
   "mimetype": "text/x-python",
   "name": "python",
   "nbconvert_exporter": "python",
   "pygments_lexer": "ipython3",
   "version": "3.12.7"
  }
 },
 "nbformat": 4,
 "nbformat_minor": 5
}
